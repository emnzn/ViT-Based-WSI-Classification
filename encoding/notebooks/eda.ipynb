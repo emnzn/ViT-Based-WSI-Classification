{
 "cells": [
  {
   "cell_type": "code",
   "execution_count": 1,
   "metadata": {},
   "outputs": [
    {
     "name": "stderr",
     "output_type": "stream",
     "text": [
      "/Users/ericmonzon/mambaforge/envs/histology/lib/python3.11/site-packages/tqdm/auto.py:21: TqdmWarning: IProgress not found. Please update jupyter and ipywidgets. See https://ipywidgets.readthedocs.io/en/stable/user_install.html\n",
      "  from .autonotebook import tqdm as notebook_tqdm\n"
     ]
    }
   ],
   "source": [
    "import sys\n",
    "sys.path.append(\"../src\")\n",
    "\n",
    "import os\n",
    "\n",
    "import pyvips \n",
    "import numpy as np\n",
    "import pandas as pd \n",
    "\n",
    "from utils import (\n",
    "    pad_img,\n",
    "    get_args, \n",
    "    patchify,\n",
    "    save_patches,\n",
    "    save_patch_args, \n",
    "    get_target_shape,\n",
    "    get_nearest_multiple\n",
    "    )"
   ]
  },
  {
   "cell_type": "code",
   "execution_count": 2,
   "metadata": {},
   "outputs": [
    {
     "name": "stdout",
     "output_type": "stream",
     "text": [
      "num images: 127\n"
     ]
    }
   ],
   "source": [
    "data_dir = os.path.join(\"..\", \"..\", \"data\", \"images\")\n",
    "img_names = os.listdir(data_dir)\n",
    "\n",
    "print(\"num images:\", len(img_names))"
   ]
  },
  {
   "cell_type": "code",
   "execution_count": 3,
   "metadata": {},
   "outputs": [],
   "source": [
    "img_paths = [os.path.join(data_dir, i) for i in img_names]\n",
    "\n",
    "imgs = [pyvips.Image.new_from_file(f) for f in img_paths]"
   ]
  },
  {
   "cell_type": "code",
   "execution_count": 4,
   "metadata": {},
   "outputs": [],
   "source": [
    "def get_target_shape(\n",
    "    img_height: int, \n",
    "    img_width: int,\n",
    "    img_patch_size: int,\n",
    "    model_patch_size: int,\n",
    "    model_window_size: int,\n",
    "    ):\n",
    "\n",
    "    \"\"\"\n",
    "    Calculates the target shape of an image so that its dimensions are multiples of the appropriate patch and window sizes.\n",
    "\n",
    "    Parameters\n",
    "    ----------\n",
    "    img: np.ndarray\n",
    "        The input image.\n",
    "\n",
    "    img_patch_size: int\n",
    "        The size of the patches to extract from the image.\n",
    "\n",
    "    model_patch_size: int\n",
    "        The patch size used in the model.\n",
    "\n",
    "    model_window_size: int\n",
    "        The window size used in the model.\n",
    "\n",
    "    Returns\n",
    "    -------\n",
    "    target_size: Tuple[int, int]\n",
    "        The adjusted (height, width) that are multiples of both the image patch size and the model's patch and window sizes.\n",
    "    \"\"\"\n",
    "\n",
    "    # img_height, img_width = img.shape[0], img.shape[1]\n",
    "\n",
    "    lcm_size = np.lcm(model_patch_size, model_window_size)\n",
    "    lcm_size = lcm_size if lcm_size > 224 else 224\n",
    "\n",
    "    def adjust_dimension(dim: int, patch_size: int) -> int:\n",
    "        dim = get_nearest_multiple(dim, patch_size)\n",
    "        num_patches = dim // patch_size\n",
    "        num_patches = get_nearest_multiple(num_patches, lcm_size)\n",
    "        return int(num_patches * patch_size)\n",
    "\n",
    "\n",
    "    target_height = adjust_dimension(img_height, img_patch_size)\n",
    "    target_width = adjust_dimension(img_width, img_patch_size)\n",
    "\n",
    "    return target_height, target_width"
   ]
  },
  {
   "cell_type": "code",
   "execution_count": 5,
   "metadata": {},
   "outputs": [
    {
     "data": {
      "text/html": [
       "<div>\n",
       "<style scoped>\n",
       "    .dataframe tbody tr th:only-of-type {\n",
       "        vertical-align: middle;\n",
       "    }\n",
       "\n",
       "    .dataframe tbody tr th {\n",
       "        vertical-align: top;\n",
       "    }\n",
       "\n",
       "    .dataframe thead th {\n",
       "        text-align: right;\n",
       "    }\n",
       "</style>\n",
       "<table border=\"1\" class=\"dataframe\">\n",
       "  <thead>\n",
       "    <tr style=\"text-align: right;\">\n",
       "      <th></th>\n",
       "      <th>img</th>\n",
       "      <th>height</th>\n",
       "      <th>width</th>\n",
       "    </tr>\n",
       "  </thead>\n",
       "  <tbody>\n",
       "    <tr>\n",
       "      <th>0</th>\n",
       "      <td>10336.ome.tif</td>\n",
       "      <td>23663</td>\n",
       "      <td>21566</td>\n",
       "    </tr>\n",
       "    <tr>\n",
       "      <th>1</th>\n",
       "      <td>10490.ome.tif</td>\n",
       "      <td>43328</td>\n",
       "      <td>33447</td>\n",
       "    </tr>\n",
       "    <tr>\n",
       "      <th>2</th>\n",
       "      <td>10548.ome.tif</td>\n",
       "      <td>40641</td>\n",
       "      <td>40072</td>\n",
       "    </tr>\n",
       "    <tr>\n",
       "      <th>3</th>\n",
       "      <td>10565.ome.tif</td>\n",
       "      <td>46012</td>\n",
       "      <td>40061</td>\n",
       "    </tr>\n",
       "    <tr>\n",
       "      <th>4</th>\n",
       "      <td>10576.ome.tif</td>\n",
       "      <td>19540</td>\n",
       "      <td>30407</td>\n",
       "    </tr>\n",
       "  </tbody>\n",
       "</table>\n",
       "</div>"
      ],
      "text/plain": [
       "             img  height  width\n",
       "0  10336.ome.tif   23663  21566\n",
       "1  10490.ome.tif   43328  33447\n",
       "2  10548.ome.tif   40641  40072\n",
       "3  10565.ome.tif   46012  40061\n",
       "4  10576.ome.tif   19540  30407"
      ]
     },
     "execution_count": 5,
     "metadata": {},
     "output_type": "execute_result"
    }
   ],
   "source": [
    "data_dict = {\n",
    "    \"img\": img_names,\n",
    "    \"height\": [i.height for i in imgs],\n",
    "    \"width\": [i.width for i in imgs]\n",
    "}\n",
    "\n",
    "df = pd.DataFrame(data_dict)\n",
    "\n",
    "df.head()"
   ]
  },
  {
   "cell_type": "code",
   "execution_count": 6,
   "metadata": {},
   "outputs": [],
   "source": [
    "img_patch_size = 224\n",
    "model_patch_size = 4\n",
    "model_window_size = 7\n",
    "\n",
    "test = df.iloc[0]"
   ]
  },
  {
   "cell_type": "code",
   "execution_count": 7,
   "metadata": {},
   "outputs": [],
   "source": [
    "target_height = []\n",
    "target_width = []\n",
    "\n",
    "for i in range(len(df)):\n",
    "    row = df.iloc[i]\n",
    "    height = row[\"height\"]\n",
    "    width = row[\"width\"]\n",
    "\n",
    "    target_shape = get_target_shape(height, width, img_patch_size, model_patch_size, model_window_size)\n",
    "    target_height.append(target_shape[0])\n",
    "    target_width.append(target_shape[1])\n"
   ]
  },
  {
   "cell_type": "code",
   "execution_count": 8,
   "metadata": {},
   "outputs": [],
   "source": [
    "df[\"target_height\"] = target_height\n",
    "df[\"target_width\"] = target_width"
   ]
  },
  {
   "cell_type": "code",
   "execution_count": 9,
   "metadata": {},
   "outputs": [
    {
     "data": {
      "text/html": [
       "<div>\n",
       "<style scoped>\n",
       "    .dataframe tbody tr th:only-of-type {\n",
       "        vertical-align: middle;\n",
       "    }\n",
       "\n",
       "    .dataframe tbody tr th {\n",
       "        vertical-align: top;\n",
       "    }\n",
       "\n",
       "    .dataframe thead th {\n",
       "        text-align: right;\n",
       "    }\n",
       "</style>\n",
       "<table border=\"1\" class=\"dataframe\">\n",
       "  <thead>\n",
       "    <tr style=\"text-align: right;\">\n",
       "      <th></th>\n",
       "      <th>img</th>\n",
       "      <th>height</th>\n",
       "      <th>width</th>\n",
       "      <th>target_height</th>\n",
       "      <th>target_width</th>\n",
       "    </tr>\n",
       "  </thead>\n",
       "  <tbody>\n",
       "    <tr>\n",
       "      <th>0</th>\n",
       "      <td>10336.ome.tif</td>\n",
       "      <td>23663</td>\n",
       "      <td>21566</td>\n",
       "      <td>50176</td>\n",
       "      <td>50176</td>\n",
       "    </tr>\n",
       "    <tr>\n",
       "      <th>1</th>\n",
       "      <td>10490.ome.tif</td>\n",
       "      <td>43328</td>\n",
       "      <td>33447</td>\n",
       "      <td>50176</td>\n",
       "      <td>50176</td>\n",
       "    </tr>\n",
       "    <tr>\n",
       "      <th>2</th>\n",
       "      <td>10548.ome.tif</td>\n",
       "      <td>40641</td>\n",
       "      <td>40072</td>\n",
       "      <td>50176</td>\n",
       "      <td>50176</td>\n",
       "    </tr>\n",
       "    <tr>\n",
       "      <th>3</th>\n",
       "      <td>10565.ome.tif</td>\n",
       "      <td>46012</td>\n",
       "      <td>40061</td>\n",
       "      <td>50176</td>\n",
       "      <td>50176</td>\n",
       "    </tr>\n",
       "    <tr>\n",
       "      <th>4</th>\n",
       "      <td>10576.ome.tif</td>\n",
       "      <td>19540</td>\n",
       "      <td>30407</td>\n",
       "      <td>50176</td>\n",
       "      <td>50176</td>\n",
       "    </tr>\n",
       "  </tbody>\n",
       "</table>\n",
       "</div>"
      ],
      "text/plain": [
       "             img  height  width  target_height  target_width\n",
       "0  10336.ome.tif   23663  21566          50176         50176\n",
       "1  10490.ome.tif   43328  33447          50176         50176\n",
       "2  10548.ome.tif   40641  40072          50176         50176\n",
       "3  10565.ome.tif   46012  40061          50176         50176\n",
       "4  10576.ome.tif   19540  30407          50176         50176"
      ]
     },
     "execution_count": 9,
     "metadata": {},
     "output_type": "execute_result"
    }
   ],
   "source": [
    "df.head()"
   ]
  },
  {
   "cell_type": "code",
   "execution_count": 10,
   "metadata": {},
   "outputs": [
    {
     "data": {
      "text/plain": [
       "np.int64(50176)"
      ]
     },
     "execution_count": 10,
     "metadata": {},
     "output_type": "execute_result"
    }
   ],
   "source": [
    "df[\"target_width\"].max()"
   ]
  },
  {
   "cell_type": "code",
   "execution_count": 11,
   "metadata": {},
   "outputs": [
    {
     "data": {
      "text/plain": [
       "np.int64(49989)"
      ]
     },
     "execution_count": 11,
     "metadata": {},
     "output_type": "execute_result"
    }
   ],
   "source": [
    "df[\"width\"].max()"
   ]
  },
  {
   "cell_type": "code",
   "execution_count": 12,
   "metadata": {},
   "outputs": [
    {
     "data": {
      "text/plain": [
       "np.int64(78287)"
      ]
     },
     "execution_count": 12,
     "metadata": {},
     "output_type": "execute_result"
    }
   ],
   "source": [
    "df[\"height\"].max()"
   ]
  },
  {
   "cell_type": "code",
   "execution_count": 13,
   "metadata": {},
   "outputs": [
    {
     "data": {
      "text/plain": [
       "np.int64(100352)"
      ]
     },
     "execution_count": 13,
     "metadata": {},
     "output_type": "execute_result"
    }
   ],
   "source": [
    "df[\"target_height\"].max()"
   ]
  },
  {
   "cell_type": "code",
   "execution_count": 14,
   "metadata": {},
   "outputs": [
    {
     "data": {
      "text/html": [
       "<div>\n",
       "<style scoped>\n",
       "    .dataframe tbody tr th:only-of-type {\n",
       "        vertical-align: middle;\n",
       "    }\n",
       "\n",
       "    .dataframe tbody tr th {\n",
       "        vertical-align: top;\n",
       "    }\n",
       "\n",
       "    .dataframe thead th {\n",
       "        text-align: right;\n",
       "    }\n",
       "</style>\n",
       "<table border=\"1\" class=\"dataframe\">\n",
       "  <thead>\n",
       "    <tr style=\"text-align: right;\">\n",
       "      <th></th>\n",
       "      <th>img</th>\n",
       "      <th>height</th>\n",
       "      <th>width</th>\n",
       "      <th>target_height</th>\n",
       "      <th>target_width</th>\n",
       "    </tr>\n",
       "  </thead>\n",
       "  <tbody>\n",
       "    <tr>\n",
       "      <th>114</th>\n",
       "      <td>15050.ome.tif</td>\n",
       "      <td>78287</td>\n",
       "      <td>46663</td>\n",
       "      <td>100352</td>\n",
       "      <td>50176</td>\n",
       "    </tr>\n",
       "  </tbody>\n",
       "</table>\n",
       "</div>"
      ],
      "text/plain": [
       "               img  height  width  target_height  target_width\n",
       "114  15050.ome.tif   78287  46663         100352         50176"
      ]
     },
     "execution_count": 14,
     "metadata": {},
     "output_type": "execute_result"
    }
   ],
   "source": [
    "df[df[\"height\"] == df[\"height\"].max()]"
   ]
  },
  {
   "cell_type": "code",
   "execution_count": 17,
   "metadata": {},
   "outputs": [],
   "source": [
    "df[\"original_area\"] = df[\"height\"] * df[\"width\"]\n",
    "df[\"new_area\"] = df[\"target_height\"] * df[\"target_width\"]"
   ]
  },
  {
   "cell_type": "code",
   "execution_count": 18,
   "metadata": {},
   "outputs": [
    {
     "data": {
      "text/plain": [
       "np.int64(274495240835)"
      ]
     },
     "execution_count": 18,
     "metadata": {},
     "output_type": "execute_result"
    }
   ],
   "source": [
    "df[\"original_area\"].sum()"
   ]
  },
  {
   "cell_type": "code",
   "execution_count": 19,
   "metadata": {},
   "outputs": [
    {
     "data": {
      "text/plain": [
       "np.int64(513596719104)"
      ]
     },
     "execution_count": 19,
     "metadata": {},
     "output_type": "execute_result"
    }
   ],
   "source": [
    "df[\"new_area\"].sum()"
   ]
  },
  {
   "cell_type": "code",
   "execution_count": null,
   "metadata": {},
   "outputs": [],
   "source": [
    "274_495_240_835\n",
    "513_596_719_104"
   ]
  }
 ],
 "metadata": {
  "kernelspec": {
   "display_name": "histology",
   "language": "python",
   "name": "python3"
  },
  "language_info": {
   "codemirror_mode": {
    "name": "ipython",
    "version": 3
   },
   "file_extension": ".py",
   "mimetype": "text/x-python",
   "name": "python",
   "nbconvert_exporter": "python",
   "pygments_lexer": "ipython3",
   "version": "3.11.9"
  }
 },
 "nbformat": 4,
 "nbformat_minor": 2
}
