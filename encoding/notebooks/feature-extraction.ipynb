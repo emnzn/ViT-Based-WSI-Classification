{
 "cells": [
  {
   "cell_type": "code",
   "execution_count": 1,
   "metadata": {},
   "outputs": [
    {
     "name": "stderr",
     "output_type": "stream",
     "text": [
      "/Users/ericmonzon/mambaforge/envs/histology/lib/python3.11/site-packages/tqdm/auto.py:21: TqdmWarning: IProgress not found. Please update jupyter and ipywidgets. See https://ipywidgets.readthedocs.io/en/stable/user_install.html\n",
      "  from .autonotebook import tqdm as notebook_tqdm\n"
     ]
    }
   ],
   "source": [
    "import sys\n",
    "sys.path.append(\"../src\")\n",
    "\n",
    "import os\n",
    "from dotenv import load_dotenv\n",
    "\n",
    "import timm\n",
    "import torch\n",
    "import pyvips\n",
    "import numpy as np\n",
    "import pandas as pd\n",
    "from tqdm import tqdm\n",
    "from PIL import Image\n",
    "from torchvision import transforms\n",
    "from timm.data import resolve_data_config\n",
    "from torch.utils.data.dataloader import DataLoader\n",
    "from timm.data.transforms_factory import create_transform\n",
    "\n",
    "from utils import PatchingDataset, get_model"
   ]
  },
  {
   "cell_type": "code",
   "execution_count": 2,
   "metadata": {},
   "outputs": [],
   "source": [
    "load_dotenv(os.path.join(\"..\", \".env\"))\n",
    "\n",
    "hf_token = os.getenv('HF_TOKEN')"
   ]
  },
  {
   "cell_type": "code",
   "execution_count": 3,
   "metadata": {},
   "outputs": [],
   "source": [
    "model = get_model(\"UNI\", \"cpu\", hf_token)"
   ]
  },
  {
   "cell_type": "code",
   "execution_count": 4,
   "metadata": {},
   "outputs": [
    {
     "data": {
      "text/plain": [
       "timm.models.vision_transformer.VisionTransformer"
      ]
     },
     "execution_count": 4,
     "metadata": {},
     "output_type": "execute_result"
    }
   ],
   "source": [
    "type(model)"
   ]
  },
  {
   "cell_type": "code",
   "execution_count": 5,
   "metadata": {},
   "outputs": [
    {
     "data": {
      "text/plain": [
       "{'url': 'https://storage.googleapis.com/vit_models/augreg/L_16-i21k-300ep-lr_0.001-aug_medium1-wd_0.1-do_0.1-sd_0.1--imagenet2012-steps_20k-lr_0.01-res_224.npz',\n",
       " 'hf_hub_id': 'timm/vit_large_patch16_224.augreg_in21k_ft_in1k',\n",
       " 'architecture': 'vit_large_patch16_224',\n",
       " 'tag': 'augreg_in21k_ft_in1k',\n",
       " 'custom_load': True,\n",
       " 'input_size': (3, 224, 224),\n",
       " 'fixed_input_size': True,\n",
       " 'interpolation': 'bicubic',\n",
       " 'crop_pct': 0.9,\n",
       " 'crop_mode': 'center',\n",
       " 'mean': (0.5, 0.5, 0.5),\n",
       " 'std': (0.5, 0.5, 0.5),\n",
       " 'num_classes': 1000,\n",
       " 'pool_size': None,\n",
       " 'first_conv': 'patch_embed.proj',\n",
       " 'classifier': 'head'}"
      ]
     },
     "execution_count": 5,
     "metadata": {},
     "output_type": "execute_result"
    }
   ],
   "source": [
    "model.pretrained_cfg"
   ]
  },
  {
   "cell_type": "code",
   "execution_count": 6,
   "metadata": {},
   "outputs": [
    {
     "name": "stdout",
     "output_type": "stream",
     "text": [
      "num images: 10282\n"
     ]
    }
   ],
   "source": [
    "data_dir = os.path.join(\"..\", \"..\", \"raw-data\", \"patches\", \"experiment-0\", \"10336\")\n",
    "img_names = os.listdir(data_dir)\n",
    "\n",
    "print(\"num images:\", len(img_names))"
   ]
  },
  {
   "cell_type": "code",
   "execution_count": 7,
   "metadata": {},
   "outputs": [],
   "source": [
    "patching_dataset = PatchingDataset(data_dir)\n",
    "\n",
    "patch_loader = DataLoader(patching_dataset, batch_size=5, shuffle=False)"
   ]
  },
  {
   "cell_type": "code",
   "execution_count": 8,
   "metadata": {},
   "outputs": [
    {
     "name": "stderr",
     "output_type": "stream",
     "text": [
      "Embedding Patches:   0%|          | 0/2057 [00:00<?, ?it/s]\n"
     ]
    }
   ],
   "source": [
    "results = {\n",
    "    \"coords\":[],\n",
    "    \"embedding\": []\n",
    "}\n",
    "\n",
    "model.eval()\n",
    "\n",
    "with torch.inference_mode():\n",
    "    for img, coords, valid_img in tqdm(patch_loader, desc=\"Embedding Patches\"):\n",
    "        embedding = model(img).cpu().numpy()\n",
    "\n",
    "        results[\"coords\"].extend(coords)\n",
    "        results[\"embedding\"].extend(embedding)\n",
    "\n",
    "        break"
   ]
  },
  {
   "cell_type": "code",
   "execution_count": 9,
   "metadata": {},
   "outputs": [
    {
     "data": {
      "text/plain": [
       "dtype('float32')"
      ]
     },
     "execution_count": 9,
     "metadata": {},
     "output_type": "execute_result"
    }
   ],
   "source": [
    "results[\"embedding\"][0].dtype"
   ]
  },
  {
   "cell_type": "code",
   "execution_count": 10,
   "metadata": {},
   "outputs": [
    {
     "data": {
      "text/html": [
       "<div>\n",
       "<style scoped>\n",
       "    .dataframe tbody tr th:only-of-type {\n",
       "        vertical-align: middle;\n",
       "    }\n",
       "\n",
       "    .dataframe tbody tr th {\n",
       "        vertical-align: top;\n",
       "    }\n",
       "\n",
       "    .dataframe thead th {\n",
       "        text-align: right;\n",
       "    }\n",
       "</style>\n",
       "<table border=\"1\" class=\"dataframe\">\n",
       "  <thead>\n",
       "    <tr style=\"text-align: right;\">\n",
       "      <th></th>\n",
       "      <th>coords</th>\n",
       "      <th>embedding</th>\n",
       "    </tr>\n",
       "  </thead>\n",
       "  <tbody>\n",
       "    <tr>\n",
       "      <th>0</th>\n",
       "      <td>patch-0-224-0-224</td>\n",
       "      <td>[0.643192, 0.2199363, 0.45604688, -2.6054518, ...</td>\n",
       "    </tr>\n",
       "    <tr>\n",
       "      <th>1</th>\n",
       "      <td>patch-224-448-0-224</td>\n",
       "      <td>[0.89091444, 0.32569528, 0.6282622, -2.4381626...</td>\n",
       "    </tr>\n",
       "    <tr>\n",
       "      <th>2</th>\n",
       "      <td>patch-448-672-0-224</td>\n",
       "      <td>[0.7543198, 0.48000032, 0.80012953, -2.4537742...</td>\n",
       "    </tr>\n",
       "    <tr>\n",
       "      <th>3</th>\n",
       "      <td>patch-672-896-0-224</td>\n",
       "      <td>[0.80567425, 0.3716954, 0.82282245, -2.481556,...</td>\n",
       "    </tr>\n",
       "    <tr>\n",
       "      <th>4</th>\n",
       "      <td>patch-896-1120-0-224</td>\n",
       "      <td>[0.80049336, 0.27832162, 0.7032731, -2.4518306...</td>\n",
       "    </tr>\n",
       "  </tbody>\n",
       "</table>\n",
       "</div>"
      ],
      "text/plain": [
       "                 coords                                          embedding\n",
       "0     patch-0-224-0-224  [0.643192, 0.2199363, 0.45604688, -2.6054518, ...\n",
       "1   patch-224-448-0-224  [0.89091444, 0.32569528, 0.6282622, -2.4381626...\n",
       "2   patch-448-672-0-224  [0.7543198, 0.48000032, 0.80012953, -2.4537742...\n",
       "3   patch-672-896-0-224  [0.80567425, 0.3716954, 0.82282245, -2.481556,...\n",
       "4  patch-896-1120-0-224  [0.80049336, 0.27832162, 0.7032731, -2.4518306..."
      ]
     },
     "execution_count": 10,
     "metadata": {},
     "output_type": "execute_result"
    }
   ],
   "source": [
    "df = pd.DataFrame(results)\n",
    "\n",
    "df.head()"
   ]
  },
  {
   "cell_type": "code",
   "execution_count": 11,
   "metadata": {},
   "outputs": [
    {
     "data": {
      "text/html": [
       "<div>\n",
       "<style scoped>\n",
       "    .dataframe tbody tr th:only-of-type {\n",
       "        vertical-align: middle;\n",
       "    }\n",
       "\n",
       "    .dataframe tbody tr th {\n",
       "        vertical-align: top;\n",
       "    }\n",
       "\n",
       "    .dataframe thead th {\n",
       "        text-align: right;\n",
       "    }\n",
       "</style>\n",
       "<table border=\"1\" class=\"dataframe\">\n",
       "  <thead>\n",
       "    <tr style=\"text-align: right;\">\n",
       "      <th></th>\n",
       "      <th>coords</th>\n",
       "      <th>embedding</th>\n",
       "    </tr>\n",
       "  </thead>\n",
       "  <tbody>\n",
       "    <tr>\n",
       "      <th>0</th>\n",
       "      <td>patch-0-224-0-224</td>\n",
       "      <td>[0.643192, 0.2199363, 0.45604688, -2.6054518, ...</td>\n",
       "    </tr>\n",
       "    <tr>\n",
       "      <th>1</th>\n",
       "      <td>patch-224-448-0-224</td>\n",
       "      <td>[0.89091444, 0.32569528, 0.6282622, -2.4381626...</td>\n",
       "    </tr>\n",
       "    <tr>\n",
       "      <th>2</th>\n",
       "      <td>patch-448-672-0-224</td>\n",
       "      <td>[0.7543198, 0.48000032, 0.80012953, -2.4537742...</td>\n",
       "    </tr>\n",
       "    <tr>\n",
       "      <th>3</th>\n",
       "      <td>patch-672-896-0-224</td>\n",
       "      <td>[0.80567425, 0.3716954, 0.82282245, -2.481556,...</td>\n",
       "    </tr>\n",
       "    <tr>\n",
       "      <th>4</th>\n",
       "      <td>patch-896-1120-0-224</td>\n",
       "      <td>[0.80049336, 0.27832162, 0.7032731, -2.4518306...</td>\n",
       "    </tr>\n",
       "  </tbody>\n",
       "</table>\n",
       "</div>"
      ],
      "text/plain": [
       "                 coords                                          embedding\n",
       "0     patch-0-224-0-224  [0.643192, 0.2199363, 0.45604688, -2.6054518, ...\n",
       "1   patch-224-448-0-224  [0.89091444, 0.32569528, 0.6282622, -2.4381626...\n",
       "2   patch-448-672-0-224  [0.7543198, 0.48000032, 0.80012953, -2.4537742...\n",
       "3   patch-672-896-0-224  [0.80567425, 0.3716954, 0.82282245, -2.481556,...\n",
       "4  patch-896-1120-0-224  [0.80049336, 0.27832162, 0.7032731, -2.4518306..."
      ]
     },
     "execution_count": 11,
     "metadata": {},
     "output_type": "execute_result"
    }
   ],
   "source": [
    "df = pd.DataFrame(results)\n",
    "\n",
    "df.head()"
   ]
  },
  {
   "cell_type": "code",
   "execution_count": 12,
   "metadata": {},
   "outputs": [
    {
     "data": {
      "text/plain": [
       "numpy.ndarray"
      ]
     },
     "execution_count": 12,
     "metadata": {},
     "output_type": "execute_result"
    }
   ],
   "source": [
    "type(df.iloc[0][\"embedding\"])"
   ]
  },
  {
   "cell_type": "code",
   "execution_count": 13,
   "metadata": {},
   "outputs": [],
   "source": [
    "df.to_parquet(\"test.parquet\")"
   ]
  },
  {
   "cell_type": "code",
   "execution_count": 14,
   "metadata": {},
   "outputs": [
    {
     "data": {
      "text/html": [
       "<div>\n",
       "<style scoped>\n",
       "    .dataframe tbody tr th:only-of-type {\n",
       "        vertical-align: middle;\n",
       "    }\n",
       "\n",
       "    .dataframe tbody tr th {\n",
       "        vertical-align: top;\n",
       "    }\n",
       "\n",
       "    .dataframe thead th {\n",
       "        text-align: right;\n",
       "    }\n",
       "</style>\n",
       "<table border=\"1\" class=\"dataframe\">\n",
       "  <thead>\n",
       "    <tr style=\"text-align: right;\">\n",
       "      <th></th>\n",
       "      <th>coords</th>\n",
       "      <th>embedding</th>\n",
       "    </tr>\n",
       "  </thead>\n",
       "  <tbody>\n",
       "    <tr>\n",
       "      <th>0</th>\n",
       "      <td>patch-0-224-0-224</td>\n",
       "      <td>[0.643192, 0.2199363, 0.45604688, -2.6054518, ...</td>\n",
       "    </tr>\n",
       "    <tr>\n",
       "      <th>1</th>\n",
       "      <td>patch-224-448-0-224</td>\n",
       "      <td>[0.89091444, 0.32569528, 0.6282622, -2.4381626...</td>\n",
       "    </tr>\n",
       "    <tr>\n",
       "      <th>2</th>\n",
       "      <td>patch-448-672-0-224</td>\n",
       "      <td>[0.7543198, 0.48000032, 0.80012953, -2.4537742...</td>\n",
       "    </tr>\n",
       "    <tr>\n",
       "      <th>3</th>\n",
       "      <td>patch-672-896-0-224</td>\n",
       "      <td>[0.80567425, 0.3716954, 0.82282245, -2.481556,...</td>\n",
       "    </tr>\n",
       "    <tr>\n",
       "      <th>4</th>\n",
       "      <td>patch-896-1120-0-224</td>\n",
       "      <td>[0.80049336, 0.27832162, 0.7032731, -2.4518306...</td>\n",
       "    </tr>\n",
       "  </tbody>\n",
       "</table>\n",
       "</div>"
      ],
      "text/plain": [
       "                 coords                                          embedding\n",
       "0     patch-0-224-0-224  [0.643192, 0.2199363, 0.45604688, -2.6054518, ...\n",
       "1   patch-224-448-0-224  [0.89091444, 0.32569528, 0.6282622, -2.4381626...\n",
       "2   patch-448-672-0-224  [0.7543198, 0.48000032, 0.80012953, -2.4537742...\n",
       "3   patch-672-896-0-224  [0.80567425, 0.3716954, 0.82282245, -2.481556,...\n",
       "4  patch-896-1120-0-224  [0.80049336, 0.27832162, 0.7032731, -2.4518306..."
      ]
     },
     "execution_count": 14,
     "metadata": {},
     "output_type": "execute_result"
    }
   ],
   "source": [
    "pd.read_parquet(\"test.parquet\").head()"
   ]
  },
  {
   "cell_type": "code",
   "execution_count": null,
   "metadata": {},
   "outputs": [],
   "source": []
  }
 ],
 "metadata": {
  "kernelspec": {
   "display_name": "histology",
   "language": "python",
   "name": "python3"
  },
  "language_info": {
   "codemirror_mode": {
    "name": "ipython",
    "version": 3
   },
   "file_extension": ".py",
   "mimetype": "text/x-python",
   "name": "python",
   "nbconvert_exporter": "python",
   "pygments_lexer": "ipython3",
   "version": "3.11.9"
  }
 },
 "nbformat": 4,
 "nbformat_minor": 2
}
