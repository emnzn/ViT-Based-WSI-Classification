{
 "cells": [
  {
   "cell_type": "code",
   "execution_count": 1,
   "metadata": {},
   "outputs": [
    {
     "name": "stderr",
     "output_type": "stream",
     "text": [
      "/Users/ericmonzon/mambaforge/envs/histology/lib/python3.11/site-packages/tqdm/auto.py:21: TqdmWarning: IProgress not found. Please update jupyter and ipywidgets. See https://ipywidgets.readthedocs.io/en/stable/user_install.html\n",
      "  from .autonotebook import tqdm as notebook_tqdm\n",
      "/Users/ericmonzon/mambaforge/envs/histology/lib/python3.11/site-packages/albumentations/__init__.py:24: UserWarning: A new version of Albumentations is available: 1.4.21 (you have 1.4.20). Upgrade using: pip install -U albumentations. To disable automatic update checks, set the environment variable NO_ALBUMENTATIONS_UPDATE to 1.\n",
      "  check_for_updates()\n"
     ]
    }
   ],
   "source": [
    "import sys\n",
    "sys.path.append(\"../src\")\n",
    "\n",
    "import os\n",
    "from pathlib import Path\n",
    "\n",
    "import torch\n",
    "import numpy as np\n",
    "import pandas as pd\n",
    "from tqdm import tqdm\n",
    "from sklearn.model_selection import train_test_split\n",
    "from sklearn.utils.class_weight import compute_class_weight\n",
    "\n",
    "from utils import extract_coords, merge_patches, adjust_coords"
   ]
  },
  {
   "cell_type": "code",
   "execution_count": 2,
   "metadata": {},
   "outputs": [
    {
     "data": {
      "text/plain": [
       "True"
      ]
     },
     "execution_count": 2,
     "metadata": {},
     "output_type": "execute_result"
    }
   ],
   "source": [
    "model = \"UNI\"\n",
    "\n",
    "img_dir = os.path.join(\"..\", \"..\", \"raw-data\", \"embeddings\", \"experiment-0\", model)\n",
    "\n",
    "os.path.isdir(img_dir)"
   ]
  },
  {
   "cell_type": "code",
   "execution_count": 3,
   "metadata": {},
   "outputs": [
    {
     "data": {
      "text/plain": [
       "127"
      ]
     },
     "execution_count": 3,
     "metadata": {},
     "output_type": "execute_result"
    }
   ],
   "source": [
    "len(os.listdir(img_dir))"
   ]
  },
  {
   "cell_type": "code",
   "execution_count": 4,
   "metadata": {},
   "outputs": [
    {
     "data": {
      "text/html": [
       "<div>\n",
       "<style scoped>\n",
       "    .dataframe tbody tr th:only-of-type {\n",
       "        vertical-align: middle;\n",
       "    }\n",
       "\n",
       "    .dataframe tbody tr th {\n",
       "        vertical-align: top;\n",
       "    }\n",
       "\n",
       "    .dataframe thead th {\n",
       "        text-align: right;\n",
       "    }\n",
       "</style>\n",
       "<table border=\"1\" class=\"dataframe\">\n",
       "  <thead>\n",
       "    <tr style=\"text-align: right;\">\n",
       "      <th></th>\n",
       "      <th>id</th>\n",
       "      <th>grade</th>\n",
       "    </tr>\n",
       "  </thead>\n",
       "  <tbody>\n",
       "    <tr>\n",
       "      <th>0</th>\n",
       "      <td>16425</td>\n",
       "      <td>1</td>\n",
       "    </tr>\n",
       "    <tr>\n",
       "      <th>1</th>\n",
       "      <td>16421</td>\n",
       "      <td>1</td>\n",
       "    </tr>\n",
       "    <tr>\n",
       "      <th>2</th>\n",
       "      <td>16223</td>\n",
       "      <td>1</td>\n",
       "    </tr>\n",
       "    <tr>\n",
       "      <th>3</th>\n",
       "      <td>16089</td>\n",
       "      <td>1</td>\n",
       "    </tr>\n",
       "    <tr>\n",
       "      <th>4</th>\n",
       "      <td>16026</td>\n",
       "      <td>1</td>\n",
       "    </tr>\n",
       "  </tbody>\n",
       "</table>\n",
       "</div>"
      ],
      "text/plain": [
       "      id grade\n",
       "0  16425     1\n",
       "1  16421     1\n",
       "2  16223     1\n",
       "3  16089     1\n",
       "4  16026     1"
      ]
     },
     "execution_count": 4,
     "metadata": {},
     "output_type": "execute_result"
    }
   ],
   "source": [
    "label_dir = os.path.join(\"..\", \"data\", \"labels.csv\")\n",
    "df = pd.read_csv(label_dir)\n",
    "\n",
    "df.head()"
   ]
  },
  {
   "cell_type": "code",
   "execution_count": 5,
   "metadata": {},
   "outputs": [],
   "source": [
    "class_weights = compute_class_weight(\n",
    "    class_weight='balanced',\n",
    "    classes=np.unique(df[\"grade\"]),\n",
    "    y=df[\"grade\"]\n",
    ")"
   ]
  },
  {
   "cell_type": "code",
   "execution_count": 6,
   "metadata": {},
   "outputs": [
    {
     "data": {
      "text/plain": [
       "array([0.79746835, 1.34042553])"
      ]
     },
     "execution_count": 6,
     "metadata": {},
     "output_type": "execute_result"
    }
   ],
   "source": [
    "class_weights"
   ]
  },
  {
   "cell_type": "code",
   "execution_count": 7,
   "metadata": {},
   "outputs": [
    {
     "data": {
      "text/plain": [
       "(121, 2)"
      ]
     },
     "execution_count": 7,
     "metadata": {},
     "output_type": "execute_result"
    }
   ],
   "source": [
    "img_ids = [Path(i).stem for i in os.listdir(img_dir)]\n",
    "\n",
    "df = df[df[\"id\"].isin(img_ids)]\n",
    "\n",
    "df.shape"
   ]
  },
  {
   "cell_type": "code",
   "execution_count": 8,
   "metadata": {},
   "outputs": [
    {
     "data": {
      "text/plain": [
       "grade\n",
       "1     77\n",
       "2+    44\n",
       "Name: count, dtype: int64"
      ]
     },
     "execution_count": 8,
     "metadata": {},
     "output_type": "execute_result"
    }
   ],
   "source": [
    "df[\"grade\"].value_counts()"
   ]
  },
  {
   "cell_type": "code",
   "execution_count": 8,
   "metadata": {},
   "outputs": [
    {
     "data": {
      "text/html": [
       "<div>\n",
       "<style scoped>\n",
       "    .dataframe tbody tr th:only-of-type {\n",
       "        vertical-align: middle;\n",
       "    }\n",
       "\n",
       "    .dataframe tbody tr th {\n",
       "        vertical-align: top;\n",
       "    }\n",
       "\n",
       "    .dataframe thead th {\n",
       "        text-align: right;\n",
       "    }\n",
       "</style>\n",
       "<table border=\"1\" class=\"dataframe\">\n",
       "  <thead>\n",
       "    <tr style=\"text-align: right;\">\n",
       "      <th></th>\n",
       "      <th>id</th>\n",
       "      <th>grade</th>\n",
       "      <th>embedding_path</th>\n",
       "    </tr>\n",
       "  </thead>\n",
       "  <tbody>\n",
       "    <tr>\n",
       "      <th>0</th>\n",
       "      <td>16425</td>\n",
       "      <td>1</td>\n",
       "      <td>../../raw-data/embeddings/experiment-0/UNI/164...</td>\n",
       "    </tr>\n",
       "    <tr>\n",
       "      <th>1</th>\n",
       "      <td>16421</td>\n",
       "      <td>1</td>\n",
       "      <td>../../raw-data/embeddings/experiment-0/UNI/164...</td>\n",
       "    </tr>\n",
       "    <tr>\n",
       "      <th>2</th>\n",
       "      <td>16223</td>\n",
       "      <td>1</td>\n",
       "      <td>../../raw-data/embeddings/experiment-0/UNI/162...</td>\n",
       "    </tr>\n",
       "    <tr>\n",
       "      <th>3</th>\n",
       "      <td>16089</td>\n",
       "      <td>1</td>\n",
       "      <td>../../raw-data/embeddings/experiment-0/UNI/160...</td>\n",
       "    </tr>\n",
       "    <tr>\n",
       "      <th>4</th>\n",
       "      <td>16026</td>\n",
       "      <td>1</td>\n",
       "      <td>../../raw-data/embeddings/experiment-0/UNI/160...</td>\n",
       "    </tr>\n",
       "  </tbody>\n",
       "</table>\n",
       "</div>"
      ],
      "text/plain": [
       "      id grade                                     embedding_path\n",
       "0  16425     1  ../../raw-data/embeddings/experiment-0/UNI/164...\n",
       "1  16421     1  ../../raw-data/embeddings/experiment-0/UNI/164...\n",
       "2  16223     1  ../../raw-data/embeddings/experiment-0/UNI/162...\n",
       "3  16089     1  ../../raw-data/embeddings/experiment-0/UNI/160...\n",
       "4  16026     1  ../../raw-data/embeddings/experiment-0/UNI/160..."
      ]
     },
     "execution_count": 8,
     "metadata": {},
     "output_type": "execute_result"
    }
   ],
   "source": [
    "df[\"embedding_path\"] = df[\"id\"].map(lambda x: os.path.join(img_dir, f\"{x}.parquet\"))\n",
    "\n",
    "df.head()"
   ]
  },
  {
   "cell_type": "code",
   "execution_count": 9,
   "metadata": {},
   "outputs": [
    {
     "data": {
      "text/plain": [
       "True"
      ]
     },
     "execution_count": 9,
     "metadata": {},
     "output_type": "execute_result"
    }
   ],
   "source": [
    "all(df[\"embedding_path\"].map(lambda x: os.path.isfile(x)))"
   ]
  },
  {
   "cell_type": "code",
   "execution_count": 10,
   "metadata": {},
   "outputs": [
    {
     "data": {
      "text/html": [
       "<div>\n",
       "<style scoped>\n",
       "    .dataframe tbody tr th:only-of-type {\n",
       "        vertical-align: middle;\n",
       "    }\n",
       "\n",
       "    .dataframe tbody tr th {\n",
       "        vertical-align: top;\n",
       "    }\n",
       "\n",
       "    .dataframe thead th {\n",
       "        text-align: right;\n",
       "    }\n",
       "</style>\n",
       "<table border=\"1\" class=\"dataframe\">\n",
       "  <thead>\n",
       "    <tr style=\"text-align: right;\">\n",
       "      <th></th>\n",
       "      <th>coords</th>\n",
       "      <th>embedding</th>\n",
       "      <th>processed_coords</th>\n",
       "    </tr>\n",
       "  </thead>\n",
       "  <tbody>\n",
       "    <tr>\n",
       "      <th>0</th>\n",
       "      <td>patch-45472-45696-24192-24416</td>\n",
       "      <td>[0.41218102, 0.21434812, -0.43298548, -1.53898...</td>\n",
       "      <td>[45472, 45696, 24192, 24416]</td>\n",
       "    </tr>\n",
       "    <tr>\n",
       "      <th>1</th>\n",
       "      <td>patch-45696-45920-24192-24416</td>\n",
       "      <td>[0.9725843, 0.49554092, 0.84255534, -0.7825324...</td>\n",
       "      <td>[45696, 45920, 24192, 24416]</td>\n",
       "    </tr>\n",
       "    <tr>\n",
       "      <th>2</th>\n",
       "      <td>patch-47712-47936-24192-24416</td>\n",
       "      <td>[0.19120352, -1.0196893, 0.5372217, -1.2949024...</td>\n",
       "      <td>[47712, 47936, 24192, 24416]</td>\n",
       "    </tr>\n",
       "    <tr>\n",
       "      <th>3</th>\n",
       "      <td>patch-47936-48160-24192-24416</td>\n",
       "      <td>[0.003308189, -0.33312634, 0.84845734, -1.0282...</td>\n",
       "      <td>[47936, 48160, 24192, 24416]</td>\n",
       "    </tr>\n",
       "    <tr>\n",
       "      <th>4</th>\n",
       "      <td>patch-48160-48384-24192-24416</td>\n",
       "      <td>[0.7834015, -1.0366802, -0.24850303, -1.468561...</td>\n",
       "      <td>[48160, 48384, 24192, 24416]</td>\n",
       "    </tr>\n",
       "  </tbody>\n",
       "</table>\n",
       "</div>"
      ],
      "text/plain": [
       "                          coords  \\\n",
       "0  patch-45472-45696-24192-24416   \n",
       "1  patch-45696-45920-24192-24416   \n",
       "2  patch-47712-47936-24192-24416   \n",
       "3  patch-47936-48160-24192-24416   \n",
       "4  patch-48160-48384-24192-24416   \n",
       "\n",
       "                                           embedding  \\\n",
       "0  [0.41218102, 0.21434812, -0.43298548, -1.53898...   \n",
       "1  [0.9725843, 0.49554092, 0.84255534, -0.7825324...   \n",
       "2  [0.19120352, -1.0196893, 0.5372217, -1.2949024...   \n",
       "3  [0.003308189, -0.33312634, 0.84845734, -1.0282...   \n",
       "4  [0.7834015, -1.0366802, -0.24850303, -1.468561...   \n",
       "\n",
       "               processed_coords  \n",
       "0  [45472, 45696, 24192, 24416]  \n",
       "1  [45696, 45920, 24192, 24416]  \n",
       "2  [47712, 47936, 24192, 24416]  \n",
       "3  [47936, 48160, 24192, 24416]  \n",
       "4  [48160, 48384, 24192, 24416]  "
      ]
     },
     "execution_count": 10,
     "metadata": {},
     "output_type": "execute_result"
    }
   ],
   "source": [
    "test_path = df[df[\"id\"] == \"12447\"][\"embedding_path\"].item()\n",
    "\n",
    "test_df = pd.read_parquet(test_path)\n",
    "\n",
    "test_df.head()"
   ]
  },
  {
   "cell_type": "code",
   "execution_count": 11,
   "metadata": {},
   "outputs": [
    {
     "data": {
      "text/plain": [
       "'../../raw-data/embeddings/experiment-0/UNI/12447.parquet'"
      ]
     },
     "execution_count": 11,
     "metadata": {},
     "output_type": "execute_result"
    }
   ],
   "source": [
    "test_path"
   ]
  },
  {
   "cell_type": "code",
   "execution_count": 12,
   "metadata": {},
   "outputs": [
    {
     "data": {
      "text/plain": [
       "2036"
      ]
     },
     "execution_count": 12,
     "metadata": {},
     "output_type": "execute_result"
    }
   ],
   "source": [
    "len(test_df)"
   ]
  },
  {
   "cell_type": "code",
   "execution_count": 13,
   "metadata": {},
   "outputs": [
    {
     "data": {
      "text/plain": [
       "(2036, 1024)"
      ]
     },
     "execution_count": 13,
     "metadata": {},
     "output_type": "execute_result"
    }
   ],
   "source": [
    "np.vstack(test_df[\"embedding\"].tolist()).shape"
   ]
  },
  {
   "cell_type": "code",
   "execution_count": 14,
   "metadata": {},
   "outputs": [
    {
     "data": {
      "text/plain": [
       "True"
      ]
     },
     "execution_count": 14,
     "metadata": {},
     "output_type": "execute_result"
    }
   ],
   "source": [
    "len(os.listdir(\"../../raw-data/patches/experiment-0/12447\")) == len (test_df)"
   ]
  },
  {
   "cell_type": "code",
   "execution_count": 18,
   "metadata": {},
   "outputs": [],
   "source": [
    "train, test = train_test_split(df, test_size=0.3, shuffle=True, stratify=df[\"grade\"])\n",
    "\n",
    "val, test = train_test_split(test, test_size=0.5, shuffle=True, stratify=test[\"grade\"])"
   ]
  },
  {
   "cell_type": "code",
   "execution_count": 19,
   "metadata": {},
   "outputs": [
    {
     "data": {
      "text/plain": [
       "grade\n",
       "1     53\n",
       "2+    31\n",
       "Name: count, dtype: int64"
      ]
     },
     "execution_count": 19,
     "metadata": {},
     "output_type": "execute_result"
    }
   ],
   "source": [
    "train[\"grade\"].value_counts()"
   ]
  },
  {
   "cell_type": "code",
   "execution_count": 20,
   "metadata": {},
   "outputs": [
    {
     "data": {
      "text/plain": [
       "grade\n",
       "1     12\n",
       "2+     7\n",
       "Name: count, dtype: int64"
      ]
     },
     "execution_count": 20,
     "metadata": {},
     "output_type": "execute_result"
    }
   ],
   "source": [
    "test[\"grade\"].value_counts()"
   ]
  },
  {
   "cell_type": "code",
   "execution_count": 21,
   "metadata": {},
   "outputs": [
    {
     "data": {
      "text/plain": [
       "grade\n",
       "1     12\n",
       "2+     6\n",
       "Name: count, dtype: int64"
      ]
     },
     "execution_count": 21,
     "metadata": {},
     "output_type": "execute_result"
    }
   ],
   "source": [
    "val[\"grade\"].value_counts()"
   ]
  },
  {
   "cell_type": "code",
   "execution_count": 16,
   "metadata": {},
   "outputs": [
    {
     "data": {
      "text/html": [
       "<div>\n",
       "<style scoped>\n",
       "    .dataframe tbody tr th:only-of-type {\n",
       "        vertical-align: middle;\n",
       "    }\n",
       "\n",
       "    .dataframe tbody tr th {\n",
       "        vertical-align: top;\n",
       "    }\n",
       "\n",
       "    .dataframe thead th {\n",
       "        text-align: right;\n",
       "    }\n",
       "</style>\n",
       "<table border=\"1\" class=\"dataframe\">\n",
       "  <thead>\n",
       "    <tr style=\"text-align: right;\">\n",
       "      <th></th>\n",
       "      <th>id</th>\n",
       "      <th>grade</th>\n",
       "      <th>embedding_path</th>\n",
       "    </tr>\n",
       "  </thead>\n",
       "  <tbody>\n",
       "    <tr>\n",
       "      <th>83</th>\n",
       "      <td>11785C</td>\n",
       "      <td>1</td>\n",
       "      <td>../../raw-data/embeddings/experiment-0/UNI/117...</td>\n",
       "    </tr>\n",
       "    <tr>\n",
       "      <th>25</th>\n",
       "      <td>14077</td>\n",
       "      <td>1</td>\n",
       "      <td>../../raw-data/embeddings/experiment-0/UNI/140...</td>\n",
       "    </tr>\n",
       "    <tr>\n",
       "      <th>4</th>\n",
       "      <td>16026</td>\n",
       "      <td>1</td>\n",
       "      <td>../../raw-data/embeddings/experiment-0/UNI/160...</td>\n",
       "    </tr>\n",
       "    <tr>\n",
       "      <th>41</th>\n",
       "      <td>13193</td>\n",
       "      <td>2+</td>\n",
       "      <td>../../raw-data/embeddings/experiment-0/UNI/131...</td>\n",
       "    </tr>\n",
       "    <tr>\n",
       "      <th>40</th>\n",
       "      <td>13267</td>\n",
       "      <td>1</td>\n",
       "      <td>../../raw-data/embeddings/experiment-0/UNI/132...</td>\n",
       "    </tr>\n",
       "    <tr>\n",
       "      <th>...</th>\n",
       "      <td>...</td>\n",
       "      <td>...</td>\n",
       "      <td>...</td>\n",
       "    </tr>\n",
       "    <tr>\n",
       "      <th>80</th>\n",
       "      <td>11845</td>\n",
       "      <td>1</td>\n",
       "      <td>../../raw-data/embeddings/experiment-0/UNI/118...</td>\n",
       "    </tr>\n",
       "    <tr>\n",
       "      <th>88</th>\n",
       "      <td>11727</td>\n",
       "      <td>2+</td>\n",
       "      <td>../../raw-data/embeddings/experiment-0/UNI/117...</td>\n",
       "    </tr>\n",
       "    <tr>\n",
       "      <th>32</th>\n",
       "      <td>13663</td>\n",
       "      <td>1</td>\n",
       "      <td>../../raw-data/embeddings/experiment-0/UNI/136...</td>\n",
       "    </tr>\n",
       "    <tr>\n",
       "      <th>23</th>\n",
       "      <td>14120</td>\n",
       "      <td>1</td>\n",
       "      <td>../../raw-data/embeddings/experiment-0/UNI/141...</td>\n",
       "    </tr>\n",
       "    <tr>\n",
       "      <th>85</th>\n",
       "      <td>11775</td>\n",
       "      <td>1</td>\n",
       "      <td>../../raw-data/embeddings/experiment-0/UNI/117...</td>\n",
       "    </tr>\n",
       "  </tbody>\n",
       "</table>\n",
       "<p>84 rows × 3 columns</p>\n",
       "</div>"
      ],
      "text/plain": [
       "        id grade                                     embedding_path\n",
       "83  11785C     1  ../../raw-data/embeddings/experiment-0/UNI/117...\n",
       "25   14077     1  ../../raw-data/embeddings/experiment-0/UNI/140...\n",
       "4    16026     1  ../../raw-data/embeddings/experiment-0/UNI/160...\n",
       "41   13193    2+  ../../raw-data/embeddings/experiment-0/UNI/131...\n",
       "40   13267     1  ../../raw-data/embeddings/experiment-0/UNI/132...\n",
       "..     ...   ...                                                ...\n",
       "80   11845     1  ../../raw-data/embeddings/experiment-0/UNI/118...\n",
       "88   11727    2+  ../../raw-data/embeddings/experiment-0/UNI/117...\n",
       "32   13663     1  ../../raw-data/embeddings/experiment-0/UNI/136...\n",
       "23   14120     1  ../../raw-data/embeddings/experiment-0/UNI/141...\n",
       "85   11775     1  ../../raw-data/embeddings/experiment-0/UNI/117...\n",
       "\n",
       "[84 rows x 3 columns]"
      ]
     },
     "execution_count": 16,
     "metadata": {},
     "output_type": "execute_result"
    }
   ],
   "source": [
    "train"
   ]
  },
  {
   "cell_type": "code",
   "execution_count": 17,
   "metadata": {},
   "outputs": [
    {
     "data": {
      "text/html": [
       "<div>\n",
       "<style scoped>\n",
       "    .dataframe tbody tr th:only-of-type {\n",
       "        vertical-align: middle;\n",
       "    }\n",
       "\n",
       "    .dataframe tbody tr th {\n",
       "        vertical-align: top;\n",
       "    }\n",
       "\n",
       "    .dataframe thead th {\n",
       "        text-align: right;\n",
       "    }\n",
       "</style>\n",
       "<table border=\"1\" class=\"dataframe\">\n",
       "  <thead>\n",
       "    <tr style=\"text-align: right;\">\n",
       "      <th></th>\n",
       "      <th>coords</th>\n",
       "      <th>embedding</th>\n",
       "      <th>processed_coords</th>\n",
       "      <th>adjusted_coords</th>\n",
       "    </tr>\n",
       "  </thead>\n",
       "  <tbody>\n",
       "    <tr>\n",
       "      <th>0</th>\n",
       "      <td>patch-17472-17696-21280-21504</td>\n",
       "      <td>[[[-0.107238434, -0.5433728, 0.48717967, -3.16...</td>\n",
       "      <td>(17472, 17696, 21280, 21504)</td>\n",
       "      <td>[78, 79, 95, 96]</td>\n",
       "    </tr>\n",
       "    <tr>\n",
       "      <th>1</th>\n",
       "      <td>patch-17696-17920-21280-21504</td>\n",
       "      <td>[[[-0.494741, -0.52670056, 0.7192134, -2.85197...</td>\n",
       "      <td>(17696, 17920, 21280, 21504)</td>\n",
       "      <td>[79, 80, 95, 96]</td>\n",
       "    </tr>\n",
       "    <tr>\n",
       "      <th>2</th>\n",
       "      <td>patch-18368-18592-21280-21504</td>\n",
       "      <td>[[[0.02677094, -0.4770287, 0.7068547, -3.08085...</td>\n",
       "      <td>(18368, 18592, 21280, 21504)</td>\n",
       "      <td>[82, 83, 95, 96]</td>\n",
       "    </tr>\n",
       "    <tr>\n",
       "      <th>3</th>\n",
       "      <td>patch-18592-18816-21280-21504</td>\n",
       "      <td>[[[0.040181085, -0.3175492, 0.62684464, -3.061...</td>\n",
       "      <td>(18592, 18816, 21280, 21504)</td>\n",
       "      <td>[83, 84, 95, 96]</td>\n",
       "    </tr>\n",
       "    <tr>\n",
       "      <th>4</th>\n",
       "      <td>patch-18816-19040-21280-21504</td>\n",
       "      <td>[[[-0.24719547, -0.5820347, 0.64646184, -2.925...</td>\n",
       "      <td>(18816, 19040, 21280, 21504)</td>\n",
       "      <td>[84, 85, 95, 96]</td>\n",
       "    </tr>\n",
       "  </tbody>\n",
       "</table>\n",
       "</div>"
      ],
      "text/plain": [
       "                          coords  \\\n",
       "0  patch-17472-17696-21280-21504   \n",
       "1  patch-17696-17920-21280-21504   \n",
       "2  patch-18368-18592-21280-21504   \n",
       "3  patch-18592-18816-21280-21504   \n",
       "4  patch-18816-19040-21280-21504   \n",
       "\n",
       "                                           embedding  \\\n",
       "0  [[[-0.107238434, -0.5433728, 0.48717967, -3.16...   \n",
       "1  [[[-0.494741, -0.52670056, 0.7192134, -2.85197...   \n",
       "2  [[[0.02677094, -0.4770287, 0.7068547, -3.08085...   \n",
       "3  [[[0.040181085, -0.3175492, 0.62684464, -3.061...   \n",
       "4  [[[-0.24719547, -0.5820347, 0.64646184, -2.925...   \n",
       "\n",
       "               processed_coords   adjusted_coords  \n",
       "0  (17472, 17696, 21280, 21504)  [78, 79, 95, 96]  \n",
       "1  (17696, 17920, 21280, 21504)  [79, 80, 95, 96]  \n",
       "2  (18368, 18592, 21280, 21504)  [82, 83, 95, 96]  \n",
       "3  (18592, 18816, 21280, 21504)  [83, 84, 95, 96]  \n",
       "4  (18816, 19040, 21280, 21504)  [84, 85, 95, 96]  "
      ]
     },
     "execution_count": 17,
     "metadata": {},
     "output_type": "execute_result"
    }
   ],
   "source": [
    "test_embedding_path = train[\"embedding_path\"].tolist()[0]\n",
    "\n",
    "train = pd.read_parquet(test_embedding_path)\n",
    "train[\"processed_coords\"] = train[\"coords\"].map(lambda x: extract_coords(x))\n",
    "train = train.sort_values(by=\"processed_coords\", key=lambda col: col.map(lambda x: (x[2], x[3], x[0], x[1])))\n",
    "train[\"embedding\"] = train[\"embedding\"].map(lambda x: x.reshape(1, 1, 1024))\n",
    "train[\"adjusted_coords\"] = adjust_coords(train[\"processed_coords\"].tolist(), 224, 1)\n",
    "\n",
    "train.head()"
   ]
  },
  {
   "cell_type": "code",
   "execution_count": 18,
   "metadata": {},
   "outputs": [
    {
     "data": {
      "text/plain": [
       "(384, 384, 1024)"
      ]
     },
     "execution_count": 18,
     "metadata": {},
     "output_type": "execute_result"
    }
   ],
   "source": [
    "merged = merge_patches(train[\"embedding\"].tolist(), train[\"adjusted_coords\"].tolist(), target_patch_size=1)\n",
    "\n",
    "merged.shape"
   ]
  },
  {
   "cell_type": "code",
   "execution_count": 19,
   "metadata": {},
   "outputs": [
    {
     "data": {
      "text/plain": [
       "(1, 1, 1024)"
      ]
     },
     "execution_count": 19,
     "metadata": {},
     "output_type": "execute_result"
    }
   ],
   "source": [
    "train.iloc[0][\"embedding\"].shape"
   ]
  },
  {
   "cell_type": "code",
   "execution_count": 20,
   "metadata": {},
   "outputs": [
    {
     "data": {
      "text/plain": [
       "(1024,)"
      ]
     },
     "execution_count": 20,
     "metadata": {},
     "output_type": "execute_result"
    }
   ],
   "source": [
    "merged[0][0].shape"
   ]
  },
  {
   "cell_type": "code",
   "execution_count": 21,
   "metadata": {},
   "outputs": [
    {
     "data": {
      "text/plain": [
       "array([0.], dtype=float32)"
      ]
     },
     "execution_count": 21,
     "metadata": {},
     "output_type": "execute_result"
    }
   ],
   "source": [
    "np.unique(merged[0][0])"
   ]
  },
  {
   "cell_type": "code",
   "execution_count": 22,
   "metadata": {},
   "outputs": [
    {
     "data": {
      "text/plain": [
       "False"
      ]
     },
     "execution_count": 22,
     "metadata": {},
     "output_type": "execute_result"
    }
   ],
   "source": [
    "np.array_equal(merged[226][95], train.iloc[0][\"embedding\"].squeeze())"
   ]
  },
  {
   "cell_type": "code",
   "execution_count": 23,
   "metadata": {},
   "outputs": [],
   "source": [
    "def save_stitched_embeddings(src_files, dest_dir):\n",
    "    os.makedirs(dest_dir, exist_ok=True)\n",
    "    for file in src_files:\n",
    "        filename = Path(file).stem\n",
    "\n",
    "        df = pd.read_parquet(file)\n",
    "        df[\"processed_coords\"] = df[\"coords\"].map(lambda x: extract_coords(x))\n",
    "        df = df.sort_values(by=\"processed_coords\", key=lambda col: col.map(lambda x: (x[2], x[3], x[0], x[1])))\n",
    "\n",
    "        df[\"embedding\"] = df[\"embedding\"].map(lambda x: x.reshape(1, 1, 1024))\n",
    "        df[\"adjusted_coords\"] = adjust_coords(\n",
    "            coords=df[\"processed_coords\"].tolist(), src_patch_size=224, target_patch_size=1\n",
    "            )\n",
    "\n",
    "        merged = merge_patches(df[\"embedding\"].tolist(), df[\"adjusted_coords\"].tolist(), target_patch_size=1)\n",
    "        np.save(os.path.join(dest_dir, f\"{filename}.npy\"), merged)\n",
    "\n",
    "\n",
    "def save_isolated_embeddings(src_files, dest_dir):\n",
    "    os.makedirs(dest_dir, exist_ok=True)\n",
    "    for file in src_files:\n",
    "        filename = Path(file).stem\n",
    "\n",
    "        df = pd.read_parquet(file)\n",
    "        stacked = np.vstack(df[\"embedding\"].tolist())\n",
    "        np.save(os.path.join(dest_dir, f\"{filename}.npy\"), stacked)"
   ]
  },
  {
   "cell_type": "code",
   "execution_count": 24,
   "metadata": {},
   "outputs": [
    {
     "name": "stderr",
     "output_type": "stream",
     "text": [
      "100%|██████████| 5/5 [12:38<00:00, 151.66s/it]\n"
     ]
    }
   ],
   "source": [
    "for i in tqdm(range(1, 6)):\n",
    "    dest_dir = os.path.join(\"..\", \"data\", model)\n",
    "    stitched_dest_dir = os.path.join(dest_dir, \"stitched\", f\"split-{i}\")\n",
    "    isolated_dest_dir = os.path.join(dest_dir, \"isolated\", f\"split-{i}\")\n",
    "\n",
    "    train, test = train_test_split(df, test_size=0.3, shuffle=True, stratify=df[\"grade\"], random_state=i)\n",
    "    val, test = train_test_split(test, test_size=0.5, shuffle=True, stratify=test[\"grade\"], random_state=i)\n",
    "\n",
    "    train_embedding_paths = train[\"embedding_path\"].tolist()\n",
    "    val_embedding_paths = val[\"embedding_path\"].tolist()\n",
    "    test_embedding_paths = test[\"embedding_path\"].tolist()\n",
    "\n",
    "    save_stitched_embeddings(train_embedding_paths, os.path.join(stitched_dest_dir, \"train\"))\n",
    "    save_stitched_embeddings(val_embedding_paths, os.path.join(stitched_dest_dir, \"val\"))\n",
    "    save_stitched_embeddings(test_embedding_paths, os.path.join(stitched_dest_dir, \"test\"))\n",
    "\n",
    "    save_isolated_embeddings(train_embedding_paths, os.path.join(isolated_dest_dir, \"train\"))\n",
    "    save_isolated_embeddings(val_embedding_paths, os.path.join(isolated_dest_dir, \"val\"))\n",
    "    save_isolated_embeddings(test_embedding_paths, os.path.join(isolated_dest_dir, \"test\"))"
   ]
  },
  {
   "cell_type": "code",
   "execution_count": null,
   "metadata": {},
   "outputs": [],
   "source": []
  }
 ],
 "metadata": {
  "kernelspec": {
   "display_name": "histology",
   "language": "python",
   "name": "python3"
  },
  "language_info": {
   "codemirror_mode": {
    "name": "ipython",
    "version": 3
   },
   "file_extension": ".py",
   "mimetype": "text/x-python",
   "name": "python",
   "nbconvert_exporter": "python",
   "pygments_lexer": "ipython3",
   "version": "3.11.9"
  }
 },
 "nbformat": 4,
 "nbformat_minor": 2
}
