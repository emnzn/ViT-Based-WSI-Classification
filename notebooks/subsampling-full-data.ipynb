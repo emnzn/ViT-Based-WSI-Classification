{
 "cells": [
  {
   "cell_type": "code",
   "execution_count": 1,
   "metadata": {},
   "outputs": [],
   "source": [
    "import sys\n",
    "sys.path.append(\"../src\")"
   ]
  },
  {
   "cell_type": "code",
   "execution_count": 2,
   "metadata": {},
   "outputs": [],
   "source": [
    "import os\n",
    "import gc\n",
    "\n",
    "import cv2\n",
    "import pyvips\n",
    "import numpy as np\n",
    "from tqdm import tqdm\n",
    "import matplotlib.pyplot as plt\n",
    "\n",
    "from utils import *"
   ]
  },
  {
   "cell_type": "code",
   "execution_count": 3,
   "metadata": {},
   "outputs": [
    {
     "name": "stdout",
     "output_type": "stream",
     "text": [
      "num images: 127\n"
     ]
    }
   ],
   "source": [
    "data_dir = os.path.join(\"..\", \"data\", \"images\")\n",
    "image_names = os.listdir(data_dir)\n",
    "\n",
    "print(\"num images:\", len(image_names))"
   ]
  },
  {
   "cell_type": "code",
   "execution_count": 4,
   "metadata": {},
   "outputs": [
    {
     "ename": "",
     "evalue": "",
     "output_type": "error",
     "traceback": [
      "\u001b[1;31mThe Kernel crashed while executing code in the current cell or a previous cell. \n",
      "\u001b[1;31mPlease review the code in the cell(s) to identify a possible cause of the failure. \n",
      "\u001b[1;31mClick <a href='https://aka.ms/vscodeJupyterKernelCrash'>here</a> for more info. \n",
      "\u001b[1;31mView Jupyter <a href='command:jupyter.viewOutput'>log</a> for further details."
     ]
    }
   ],
   "source": [
    "image_paths = [os.path.join(data_dir, i) for i in image_names]\n",
    "images = [pyvips.Image.new_from_file(f, access=\"sequential\") for f in image_paths]"
   ]
  },
  {
   "cell_type": "code",
   "execution_count": 5,
   "metadata": {},
   "outputs": [
    {
     "name": "stderr",
     "output_type": "stream",
     "text": [
      "Processing images:   0%|          | 0/127 [00:00<?, ?it/s]"
     ]
    }
   ],
   "source": [
    "downsample_factor = 100\n",
    "spacing = 10\n",
    "\n",
    "for i, image in tqdm(enumerate(images[5:]), desc=\"Processing images\", total=len(images)):\n",
    "    image = image.numpy()\n",
    "    downsampled = downsample(image, downsample_factor)\n",
    "    background_color = get_background_color(downsampled)\n",
    "\n",
    "    contours = get_contours(downsampled)\n",
    "    contours = [c * downsample_factor for c in contours]\n",
    "    coordinates = get_coordinates(contours)\n",
    "    coordinate_dict = squeeze_coordinates(coordinates, spacing)\n",
    "\n",
    "    processed_image = organize_tissues(image, spacing, coordinate_dict)\n",
    "\n",
    "    del image, contours, coordinates, coordinate_dict\n",
    "    gc.collect()\n",
    "\n",
    "    is_white = np.all(processed_image == [255, 255, 255], axis=-1)\n",
    "    is_black = np.all(processed_image == [0, 0, 0], axis=-1)\n",
    "\n",
    "    background_mask = np.logical_or(is_white, is_black)\n",
    "    processed_image[background_mask] = background_color\n",
    "\n",
    "    del is_white, is_black, background_mask\n",
    "    gc.collect()\n",
    "\n",
    "    processed_image = downsample(processed_image, downsample_factor)\n",
    "\n",
    "    fig, axes = plt.subplots(1, 2, figsize=(8, 8))\n",
    "\n",
    "    axes[0].imshow(downsampled)\n",
    "    axes[0].set_title(f\"original {image_names[i]}\")\n",
    "\n",
    "    axes[1].imshow(processed_image)\n",
    "    axes[1].set_title(f\"subsampled {image_names[i]}\")\n",
    "\n",
    "    plt.show()"
   ]
  },
  {
   "cell_type": "code",
   "execution_count": null,
   "metadata": {},
   "outputs": [],
   "source": []
  }
 ],
 "metadata": {
  "kernelspec": {
   "display_name": "histology",
   "language": "python",
   "name": "python3"
  },
  "language_info": {
   "codemirror_mode": {
    "name": "ipython",
    "version": 3
   },
   "file_extension": ".py",
   "mimetype": "text/x-python",
   "name": "python",
   "nbconvert_exporter": "python",
   "pygments_lexer": "ipython3",
   "version": "3.11.9"
  }
 },
 "nbformat": 4,
 "nbformat_minor": 2
}
