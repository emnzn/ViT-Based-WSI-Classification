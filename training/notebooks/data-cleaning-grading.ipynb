{
 "cells": [
  {
   "cell_type": "code",
   "execution_count": 1,
   "metadata": {},
   "outputs": [],
   "source": [
    "import os\n",
    "import re\n",
    "\n",
    "import pandas as pd"
   ]
  },
  {
   "cell_type": "code",
   "execution_count": 2,
   "metadata": {},
   "outputs": [
    {
     "data": {
      "text/plain": [
       "True"
      ]
     },
     "execution_count": 2,
     "metadata": {},
     "output_type": "execute_result"
    }
   ],
   "source": [
    "data_dir = os.path.join(\"..\", \"..\", \"raw-data\", \"clinical\", \"grading.xlsx\")\n",
    "\n",
    "os.path.isfile(data_dir)"
   ]
  },
  {
   "cell_type": "code",
   "execution_count": 3,
   "metadata": {},
   "outputs": [
    {
     "data": {
      "text/plain": [
       "['Sheet1', 'Sheet2']"
      ]
     },
     "execution_count": 3,
     "metadata": {},
     "output_type": "execute_result"
    }
   ],
   "source": [
    "pd.ExcelFile(data_dir).sheet_names"
   ]
  },
  {
   "cell_type": "code",
   "execution_count": 4,
   "metadata": {},
   "outputs": [],
   "source": [
    "def filter_ids(row):\n",
    "    variant = row[\"Unnamed: 1\"]\n",
    "\n",
    "    id = row[\"S/N\"] + variant if isinstance(variant, str) else row[\"S/N\"]\n",
    "\n",
    "    return id"
   ]
  },
  {
   "cell_type": "code",
   "execution_count": 5,
   "metadata": {},
   "outputs": [
    {
     "name": "stderr",
     "output_type": "stream",
     "text": [
      "/var/folders/px/_hyh_81j2wx_d8kw_xzcl9hr0000gn/T/ipykernel_12745/2207036427.py:2: FutureWarning: Series.fillna with 'method' is deprecated and will raise in a future version. Use obj.ffill() or obj.bfill() instead.\n",
      "  df[\"S/N\"] = df[\"S/N\"].fillna(method=\"ffill\")\n"
     ]
    },
    {
     "data": {
      "text/html": [
       "<div>\n",
       "<style scoped>\n",
       "    .dataframe tbody tr th:only-of-type {\n",
       "        vertical-align: middle;\n",
       "    }\n",
       "\n",
       "    .dataframe tbody tr th {\n",
       "        vertical-align: top;\n",
       "    }\n",
       "\n",
       "    .dataframe thead th {\n",
       "        text-align: right;\n",
       "    }\n",
       "</style>\n",
       "<table border=\"1\" class=\"dataframe\">\n",
       "  <thead>\n",
       "    <tr style=\"text-align: right;\">\n",
       "      <th></th>\n",
       "      <th>Diagnosis</th>\n",
       "      <th>Microscopic Description</th>\n",
       "      <th>id</th>\n",
       "    </tr>\n",
       "  </thead>\n",
       "  <tbody>\n",
       "    <tr>\n",
       "      <th>0</th>\n",
       "      <td>\\nDura/ brain, left frontal convexity tumour, ...</td>\n",
       "      <td>MICROSCOPIC DESCRIPTION_x000D__x000D_Section s...</td>\n",
       "      <td>16425</td>\n",
       "    </tr>\n",
       "    <tr>\n",
       "      <th>1</th>\n",
       "      <td>Dura/ brain, olfactory groove tumour, excision...</td>\n",
       "      <td>MICROSCOPIC DESCRIPTION_x000D__x000D_Sections ...</td>\n",
       "      <td>16421</td>\n",
       "    </tr>\n",
       "    <tr>\n",
       "      <th>2</th>\n",
       "      <td>\\n(A, B) Dura/ leptomeninges, right orbital an...</td>\n",
       "      <td>MICROSCOPIC DESCRIPTION_x000D__x000D_(A, B) Se...</td>\n",
       "      <td>16223</td>\n",
       "    </tr>\n",
       "    <tr>\n",
       "      <th>3</th>\n",
       "      <td>(A-B) Meninges/ brain, left frontotemporal tum...</td>\n",
       "      <td>MICROSCOPIC DESCRIPTION_x000D__x000D_(A-B) Per...</td>\n",
       "      <td>16089</td>\n",
       "    </tr>\n",
       "    <tr>\n",
       "      <th>4</th>\n",
       "      <td>_x000D_\\n(A) Anterior skull base tumor, excisi...</td>\n",
       "      <td>MICROSCOPIC DESCRIPTION_x000D__x000D_(A) Secti...</td>\n",
       "      <td>16026</td>\n",
       "    </tr>\n",
       "  </tbody>\n",
       "</table>\n",
       "</div>"
      ],
      "text/plain": [
       "                                           Diagnosis  \\\n",
       "0  \\nDura/ brain, left frontal convexity tumour, ...   \n",
       "1  Dura/ brain, olfactory groove tumour, excision...   \n",
       "2  \\n(A, B) Dura/ leptomeninges, right orbital an...   \n",
       "3  (A-B) Meninges/ brain, left frontotemporal tum...   \n",
       "4  _x000D_\\n(A) Anterior skull base tumor, excisi...   \n",
       "\n",
       "                            Microscopic Description      id  \n",
       "0  MICROSCOPIC DESCRIPTION_x000D__x000D_Section s...  16425  \n",
       "1  MICROSCOPIC DESCRIPTION_x000D__x000D_Sections ...  16421  \n",
       "2  MICROSCOPIC DESCRIPTION_x000D__x000D_(A, B) Se...  16223  \n",
       "3  MICROSCOPIC DESCRIPTION_x000D__x000D_(A-B) Per...  16089  \n",
       "4  MICROSCOPIC DESCRIPTION_x000D__x000D_(A) Secti...  16026  "
      ]
     },
     "execution_count": 5,
     "metadata": {},
     "output_type": "execute_result"
    }
   ],
   "source": [
    "df = pd.read_excel(data_dir, sheet_name='Sheet1')\n",
    "df[\"S/N\"] = df[\"S/N\"].fillna(method=\"ffill\")\n",
    "df[\"S/N\"] = df[\"S/N\"].map(int).map(str)\n",
    "df[\"id\"] = df.apply(filter_ids, axis=1)\n",
    "\n",
    "df = df.drop([\"S/N\", \"Unnamed: 1\"], axis=1)\n",
    "\n",
    "df.head()"
   ]
  },
  {
   "cell_type": "code",
   "execution_count": 6,
   "metadata": {},
   "outputs": [
    {
     "data": {
      "text/plain": [
       "132"
      ]
     },
     "execution_count": 6,
     "metadata": {},
     "output_type": "execute_result"
    }
   ],
   "source": [
    "len(df)"
   ]
  },
  {
   "cell_type": "code",
   "execution_count": 6,
   "metadata": {},
   "outputs": [],
   "source": [
    "mapping = {\n",
    "    \"I\": \"1\",\n",
    "    \"II\": \"2\",\n",
    "    \"III\": \"3\",\n",
    "    \"IV\": \"4\",\n",
    "    \"1\": \"1\",\n",
    "    \"2\": \"2\",\n",
    "    \"3\": \"3\",\n",
    "    \"4\": \"4\"\n",
    "}"
   ]
  },
  {
   "cell_type": "code",
   "execution_count": 7,
   "metadata": {},
   "outputs": [
    {
     "data": {
      "text/html": [
       "<div>\n",
       "<style scoped>\n",
       "    .dataframe tbody tr th:only-of-type {\n",
       "        vertical-align: middle;\n",
       "    }\n",
       "\n",
       "    .dataframe tbody tr th {\n",
       "        vertical-align: top;\n",
       "    }\n",
       "\n",
       "    .dataframe thead th {\n",
       "        text-align: right;\n",
       "    }\n",
       "</style>\n",
       "<table border=\"1\" class=\"dataframe\">\n",
       "  <thead>\n",
       "    <tr style=\"text-align: right;\">\n",
       "      <th></th>\n",
       "      <th>Diagnosis</th>\n",
       "      <th>Microscopic Description</th>\n",
       "      <th>id</th>\n",
       "      <th>grade</th>\n",
       "    </tr>\n",
       "  </thead>\n",
       "  <tbody>\n",
       "    <tr>\n",
       "      <th>0</th>\n",
       "      <td>\\nDura/ brain, left frontal convexity tumour, ...</td>\n",
       "      <td>MICROSCOPIC DESCRIPTION_x000D__x000D_Section s...</td>\n",
       "      <td>16425</td>\n",
       "      <td>1</td>\n",
       "    </tr>\n",
       "    <tr>\n",
       "      <th>1</th>\n",
       "      <td>Dura/ brain, olfactory groove tumour, excision...</td>\n",
       "      <td>MICROSCOPIC DESCRIPTION_x000D__x000D_Sections ...</td>\n",
       "      <td>16421</td>\n",
       "      <td>1</td>\n",
       "    </tr>\n",
       "    <tr>\n",
       "      <th>2</th>\n",
       "      <td>\\n(A, B) Dura/ leptomeninges, right orbital an...</td>\n",
       "      <td>MICROSCOPIC DESCRIPTION_x000D__x000D_(A, B) Se...</td>\n",
       "      <td>16223</td>\n",
       "      <td>1</td>\n",
       "    </tr>\n",
       "    <tr>\n",
       "      <th>3</th>\n",
       "      <td>(A-B) Meninges/ brain, left frontotemporal tum...</td>\n",
       "      <td>MICROSCOPIC DESCRIPTION_x000D__x000D_(A-B) Per...</td>\n",
       "      <td>16089</td>\n",
       "      <td>1</td>\n",
       "    </tr>\n",
       "    <tr>\n",
       "      <th>4</th>\n",
       "      <td>_x000D_\\n(A) Anterior skull base tumor, excisi...</td>\n",
       "      <td>MICROSCOPIC DESCRIPTION_x000D__x000D_(A) Secti...</td>\n",
       "      <td>16026</td>\n",
       "      <td>1</td>\n",
       "    </tr>\n",
       "  </tbody>\n",
       "</table>\n",
       "</div>"
      ],
      "text/plain": [
       "                                           Diagnosis  \\\n",
       "0  \\nDura/ brain, left frontal convexity tumour, ...   \n",
       "1  Dura/ brain, olfactory groove tumour, excision...   \n",
       "2  \\n(A, B) Dura/ leptomeninges, right orbital an...   \n",
       "3  (A-B) Meninges/ brain, left frontotemporal tum...   \n",
       "4  _x000D_\\n(A) Anterior skull base tumor, excisi...   \n",
       "\n",
       "                            Microscopic Description      id grade  \n",
       "0  MICROSCOPIC DESCRIPTION_x000D__x000D_Section s...  16425     1  \n",
       "1  MICROSCOPIC DESCRIPTION_x000D__x000D_Sections ...  16421     1  \n",
       "2  MICROSCOPIC DESCRIPTION_x000D__x000D_(A, B) Se...  16223     1  \n",
       "3  MICROSCOPIC DESCRIPTION_x000D__x000D_(A-B) Per...  16089     1  \n",
       "4  MICROSCOPIC DESCRIPTION_x000D__x000D_(A) Secti...  16026     1  "
      ]
     },
     "execution_count": 7,
     "metadata": {},
     "output_type": "execute_result"
    }
   ],
   "source": [
    "pattern = r\"grade\\s*(I{1,4}|1|2|3|4)\"\n",
    "\n",
    "df[\"grade\"] = df[\"Diagnosis\"].str.extract(pattern, flags=re.IGNORECASE)\n",
    "df[\"grade\"] = df[\"grade\"].map(mapping)\n",
    "\n",
    "df.head()"
   ]
  },
  {
   "cell_type": "code",
   "execution_count": 8,
   "metadata": {},
   "outputs": [
    {
     "data": {
      "text/html": [
       "<div>\n",
       "<style scoped>\n",
       "    .dataframe tbody tr th:only-of-type {\n",
       "        vertical-align: middle;\n",
       "    }\n",
       "\n",
       "    .dataframe tbody tr th {\n",
       "        vertical-align: top;\n",
       "    }\n",
       "\n",
       "    .dataframe thead th {\n",
       "        text-align: right;\n",
       "    }\n",
       "</style>\n",
       "<table border=\"1\" class=\"dataframe\">\n",
       "  <thead>\n",
       "    <tr style=\"text-align: right;\">\n",
       "      <th></th>\n",
       "      <th>Diagnosis</th>\n",
       "      <th>Microscopic Description</th>\n",
       "      <th>id</th>\n",
       "      <th>grade</th>\n",
       "    </tr>\n",
       "  </thead>\n",
       "  <tbody>\n",
       "    <tr>\n",
       "      <th>21</th>\n",
       "      <td>_x000D_\\n(A) Brain, frontal lobe, tumour; exci...</td>\n",
       "      <td>MICROSCOPIC DESCRIPTION_x000D__x000D_(A) Secti...</td>\n",
       "      <td>14572B</td>\n",
       "      <td>NaN</td>\n",
       "    </tr>\n",
       "    <tr>\n",
       "      <th>67</th>\n",
       "      <td>_x000D_\\n(A and B) Right parietal tumour: Meni...</td>\n",
       "      <td>MICROSCOPIC DESCRIPTION_x000D__x000D_Sections ...</td>\n",
       "      <td>12230</td>\n",
       "      <td>NaN</td>\n",
       "    </tr>\n",
       "    <tr>\n",
       "      <th>75</th>\n",
       "      <td>\\nCP angle brain tumor, biopsy: Favor meningio...</td>\n",
       "      <td>MICROSCOPIC DESCRIPTION_x000D__x000D_Sections ...</td>\n",
       "      <td>12050</td>\n",
       "      <td>NaN</td>\n",
       "    </tr>\n",
       "    <tr>\n",
       "      <th>78</th>\n",
       "      <td>_x000D_\\nLeft parietal tumour, excision: _x000...</td>\n",
       "      <td>MICROSCOPIC DESCRIPTION_x000D__x000D_Sections ...</td>\n",
       "      <td>12010B</td>\n",
       "      <td>NaN</td>\n",
       "    </tr>\n",
       "    <tr>\n",
       "      <th>87</th>\n",
       "      <td>Brain, cavernous sinus mass, biopsy: - Mening...</td>\n",
       "      <td>NaN</td>\n",
       "      <td>11785A</td>\n",
       "      <td>NaN</td>\n",
       "    </tr>\n",
       "    <tr>\n",
       "      <th>88</th>\n",
       "      <td>Cavernous sinus, excision biopsies : Meningioma</td>\n",
       "      <td>MICROSCOPIC DESCRIPTION_x000D__x000D_Sections ...</td>\n",
       "      <td>11785B</td>\n",
       "      <td>NaN</td>\n",
       "    </tr>\n",
       "  </tbody>\n",
       "</table>\n",
       "</div>"
      ],
      "text/plain": [
       "                                            Diagnosis  \\\n",
       "21  _x000D_\\n(A) Brain, frontal lobe, tumour; exci...   \n",
       "67  _x000D_\\n(A and B) Right parietal tumour: Meni...   \n",
       "75  \\nCP angle brain tumor, biopsy: Favor meningio...   \n",
       "78  _x000D_\\nLeft parietal tumour, excision: _x000...   \n",
       "87   Brain, cavernous sinus mass, biopsy: - Mening...   \n",
       "88    Cavernous sinus, excision biopsies : Meningioma   \n",
       "\n",
       "                             Microscopic Description       id grade  \n",
       "21  MICROSCOPIC DESCRIPTION_x000D__x000D_(A) Secti...  14572B   NaN  \n",
       "67  MICROSCOPIC DESCRIPTION_x000D__x000D_Sections ...   12230   NaN  \n",
       "75  MICROSCOPIC DESCRIPTION_x000D__x000D_Sections ...   12050   NaN  \n",
       "78  MICROSCOPIC DESCRIPTION_x000D__x000D_Sections ...  12010B   NaN  \n",
       "87                                                NaN  11785A   NaN  \n",
       "88  MICROSCOPIC DESCRIPTION_x000D__x000D_Sections ...  11785B   NaN  "
      ]
     },
     "execution_count": 8,
     "metadata": {},
     "output_type": "execute_result"
    }
   ],
   "source": [
    "df[df[\"grade\"].isna()]"
   ]
  },
  {
   "cell_type": "code",
   "execution_count": 9,
   "metadata": {},
   "outputs": [
    {
     "data": {
      "text/html": [
       "<div>\n",
       "<style scoped>\n",
       "    .dataframe tbody tr th:only-of-type {\n",
       "        vertical-align: middle;\n",
       "    }\n",
       "\n",
       "    .dataframe tbody tr th {\n",
       "        vertical-align: top;\n",
       "    }\n",
       "\n",
       "    .dataframe thead th {\n",
       "        text-align: right;\n",
       "    }\n",
       "</style>\n",
       "<table border=\"1\" class=\"dataframe\">\n",
       "  <thead>\n",
       "    <tr style=\"text-align: right;\">\n",
       "      <th></th>\n",
       "      <th>id</th>\n",
       "      <th>grade</th>\n",
       "    </tr>\n",
       "  </thead>\n",
       "  <tbody>\n",
       "    <tr>\n",
       "      <th>0</th>\n",
       "      <td>16425</td>\n",
       "      <td>1</td>\n",
       "    </tr>\n",
       "    <tr>\n",
       "      <th>1</th>\n",
       "      <td>16421</td>\n",
       "      <td>1</td>\n",
       "    </tr>\n",
       "    <tr>\n",
       "      <th>2</th>\n",
       "      <td>16223</td>\n",
       "      <td>1</td>\n",
       "    </tr>\n",
       "    <tr>\n",
       "      <th>3</th>\n",
       "      <td>16089</td>\n",
       "      <td>1</td>\n",
       "    </tr>\n",
       "    <tr>\n",
       "      <th>4</th>\n",
       "      <td>16026</td>\n",
       "      <td>1</td>\n",
       "    </tr>\n",
       "  </tbody>\n",
       "</table>\n",
       "</div>"
      ],
      "text/plain": [
       "      id grade\n",
       "0  16425     1\n",
       "1  16421     1\n",
       "2  16223     1\n",
       "3  16089     1\n",
       "4  16026     1"
      ]
     },
     "execution_count": 9,
     "metadata": {},
     "output_type": "execute_result"
    }
   ],
   "source": [
    "cleaned = df[[\"id\", \"grade\"]].copy().dropna()\n",
    "\n",
    "cleaned.head()"
   ]
  },
  {
   "cell_type": "code",
   "execution_count": 10,
   "metadata": {},
   "outputs": [
    {
     "data": {
      "text/plain": [
       "grade\n",
       "1    79\n",
       "2    43\n",
       "3     4\n",
       "Name: count, dtype: int64"
      ]
     },
     "execution_count": 10,
     "metadata": {},
     "output_type": "execute_result"
    }
   ],
   "source": [
    "cleaned[\"grade\"].value_counts()"
   ]
  },
  {
   "cell_type": "code",
   "execution_count": 11,
   "metadata": {},
   "outputs": [
    {
     "data": {
      "text/plain": [
       "grade\n",
       "1     79\n",
       "2+    47\n",
       "Name: count, dtype: int64"
      ]
     },
     "execution_count": 11,
     "metadata": {},
     "output_type": "execute_result"
    }
   ],
   "source": [
    "cleaned[\"grade\"] = cleaned[\"grade\"].map(lambda x: x if x == \"1\" else \"2+\")\n",
    "\n",
    "cleaned[\"grade\"].value_counts()"
   ]
  },
  {
   "cell_type": "code",
   "execution_count": 12,
   "metadata": {},
   "outputs": [],
   "source": [
    "dest_dir = os.path.join(\"..\", \"data\")\n",
    "os.makedirs(dest_dir, exist_ok=True)\n",
    "\n",
    "cleaned.to_csv(os.path.join(dest_dir, \"labels.csv\"), index=False)"
   ]
  },
  {
   "cell_type": "code",
   "execution_count": null,
   "metadata": {},
   "outputs": [],
   "source": []
  }
 ],
 "metadata": {
  "kernelspec": {
   "display_name": "histology",
   "language": "python",
   "name": "python3"
  },
  "language_info": {
   "codemirror_mode": {
    "name": "ipython",
    "version": 3
   },
   "file_extension": ".py",
   "mimetype": "text/x-python",
   "name": "python",
   "nbconvert_exporter": "python",
   "pygments_lexer": "ipython3",
   "version": "3.11.9"
  }
 },
 "nbformat": 4,
 "nbformat_minor": 2
}
