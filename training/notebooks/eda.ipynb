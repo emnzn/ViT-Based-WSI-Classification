{
 "cells": [
  {
   "cell_type": "code",
   "execution_count": 7,
   "metadata": {},
   "outputs": [],
   "source": [
    "import os\n",
    "import re\n",
    "\n",
    "import pandas as pd"
   ]
  },
  {
   "cell_type": "code",
   "execution_count": 2,
   "metadata": {},
   "outputs": [
    {
     "data": {
      "text/plain": [
       "True"
      ]
     },
     "execution_count": 2,
     "metadata": {},
     "output_type": "execute_result"
    }
   ],
   "source": [
    "data_dir = os.path.join(\"..\", \"..\", \"data\", \"clinical\", \"grading.xlsx\")\n",
    "\n",
    "os.path.isfile(data_dir)"
   ]
  },
  {
   "cell_type": "code",
   "execution_count": 3,
   "metadata": {},
   "outputs": [
    {
     "data": {
      "text/plain": [
       "['Sheet1', 'Sheet2']"
      ]
     },
     "execution_count": 3,
     "metadata": {},
     "output_type": "execute_result"
    }
   ],
   "source": [
    "pd.ExcelFile(data_dir).sheet_names"
   ]
  },
  {
   "cell_type": "code",
   "execution_count": 10,
   "metadata": {},
   "outputs": [
    {
     "data": {
      "text/html": [
       "<div>\n",
       "<style scoped>\n",
       "    .dataframe tbody tr th:only-of-type {\n",
       "        vertical-align: middle;\n",
       "    }\n",
       "\n",
       "    .dataframe tbody tr th {\n",
       "        vertical-align: top;\n",
       "    }\n",
       "\n",
       "    .dataframe thead th {\n",
       "        text-align: right;\n",
       "    }\n",
       "</style>\n",
       "<table border=\"1\" class=\"dataframe\">\n",
       "  <thead>\n",
       "    <tr style=\"text-align: right;\">\n",
       "      <th></th>\n",
       "      <th>S/N</th>\n",
       "      <th>Unnamed: 1</th>\n",
       "      <th>Diagnosis</th>\n",
       "      <th>Microscopic Description</th>\n",
       "    </tr>\n",
       "  </thead>\n",
       "  <tbody>\n",
       "    <tr>\n",
       "      <th>0</th>\n",
       "      <td>16425.0</td>\n",
       "      <td>NaN</td>\n",
       "      <td>\\nDura/ brain, left frontal convexity tumour, ...</td>\n",
       "      <td>MICROSCOPIC DESCRIPTION_x000D__x000D_Section s...</td>\n",
       "    </tr>\n",
       "    <tr>\n",
       "      <th>1</th>\n",
       "      <td>16421.0</td>\n",
       "      <td>NaN</td>\n",
       "      <td>Dura/ brain, olfactory groove tumour, excision...</td>\n",
       "      <td>MICROSCOPIC DESCRIPTION_x000D__x000D_Sections ...</td>\n",
       "    </tr>\n",
       "    <tr>\n",
       "      <th>2</th>\n",
       "      <td>16223.0</td>\n",
       "      <td>NaN</td>\n",
       "      <td>\\n(A, B) Dura/ leptomeninges, right orbital an...</td>\n",
       "      <td>MICROSCOPIC DESCRIPTION_x000D__x000D_(A, B) Se...</td>\n",
       "    </tr>\n",
       "    <tr>\n",
       "      <th>3</th>\n",
       "      <td>16089.0</td>\n",
       "      <td>NaN</td>\n",
       "      <td>(A-B) Meninges/ brain, left frontotemporal tum...</td>\n",
       "      <td>MICROSCOPIC DESCRIPTION_x000D__x000D_(A-B) Per...</td>\n",
       "    </tr>\n",
       "    <tr>\n",
       "      <th>4</th>\n",
       "      <td>16026.0</td>\n",
       "      <td>NaN</td>\n",
       "      <td>_x000D_\\n(A) Anterior skull base tumor, excisi...</td>\n",
       "      <td>MICROSCOPIC DESCRIPTION_x000D__x000D_(A) Secti...</td>\n",
       "    </tr>\n",
       "  </tbody>\n",
       "</table>\n",
       "</div>"
      ],
      "text/plain": [
       "       S/N Unnamed: 1                                          Diagnosis  \\\n",
       "0  16425.0        NaN  \\nDura/ brain, left frontal convexity tumour, ...   \n",
       "1  16421.0        NaN  Dura/ brain, olfactory groove tumour, excision...   \n",
       "2  16223.0        NaN  \\n(A, B) Dura/ leptomeninges, right orbital an...   \n",
       "3  16089.0        NaN  (A-B) Meninges/ brain, left frontotemporal tum...   \n",
       "4  16026.0        NaN  _x000D_\\n(A) Anterior skull base tumor, excisi...   \n",
       "\n",
       "                            Microscopic Description   \n",
       "0  MICROSCOPIC DESCRIPTION_x000D__x000D_Section s...  \n",
       "1  MICROSCOPIC DESCRIPTION_x000D__x000D_Sections ...  \n",
       "2  MICROSCOPIC DESCRIPTION_x000D__x000D_(A, B) Se...  \n",
       "3  MICROSCOPIC DESCRIPTION_x000D__x000D_(A-B) Per...  \n",
       "4  MICROSCOPIC DESCRIPTION_x000D__x000D_(A) Secti...  "
      ]
     },
     "execution_count": 10,
     "metadata": {},
     "output_type": "execute_result"
    }
   ],
   "source": [
    "df = pd.read_excel(data_dir, sheet_name='Sheet1')\n",
    "\n",
    "df.head()"
   ]
  },
  {
   "cell_type": "code",
   "execution_count": 20,
   "metadata": {},
   "outputs": [
    {
     "data": {
      "text/html": [
       "<div>\n",
       "<style scoped>\n",
       "    .dataframe tbody tr th:only-of-type {\n",
       "        vertical-align: middle;\n",
       "    }\n",
       "\n",
       "    .dataframe tbody tr th {\n",
       "        vertical-align: top;\n",
       "    }\n",
       "\n",
       "    .dataframe thead th {\n",
       "        text-align: right;\n",
       "    }\n",
       "</style>\n",
       "<table border=\"1\" class=\"dataframe\">\n",
       "  <thead>\n",
       "    <tr style=\"text-align: right;\">\n",
       "      <th></th>\n",
       "      <th>S/N</th>\n",
       "      <th>Unnamed: 1</th>\n",
       "      <th>Diagnosis</th>\n",
       "      <th>Microscopic Description</th>\n",
       "      <th>label</th>\n",
       "    </tr>\n",
       "  </thead>\n",
       "  <tbody>\n",
       "    <tr>\n",
       "      <th>0</th>\n",
       "      <td>16425.0</td>\n",
       "      <td>NaN</td>\n",
       "      <td>\\nDura/ brain, left frontal convexity tumour, ...</td>\n",
       "      <td>MICROSCOPIC DESCRIPTION_x000D__x000D_Section s...</td>\n",
       "      <td>grade 1</td>\n",
       "    </tr>\n",
       "    <tr>\n",
       "      <th>1</th>\n",
       "      <td>16421.0</td>\n",
       "      <td>NaN</td>\n",
       "      <td>Dura/ brain, olfactory groove tumour, excision...</td>\n",
       "      <td>MICROSCOPIC DESCRIPTION_x000D__x000D_Sections ...</td>\n",
       "      <td>grade 1</td>\n",
       "    </tr>\n",
       "    <tr>\n",
       "      <th>2</th>\n",
       "      <td>16223.0</td>\n",
       "      <td>NaN</td>\n",
       "      <td>\\n(A, B) Dura/ leptomeninges, right orbital an...</td>\n",
       "      <td>MICROSCOPIC DESCRIPTION_x000D__x000D_(A, B) Se...</td>\n",
       "      <td>grade 1</td>\n",
       "    </tr>\n",
       "    <tr>\n",
       "      <th>3</th>\n",
       "      <td>16089.0</td>\n",
       "      <td>NaN</td>\n",
       "      <td>(A-B) Meninges/ brain, left frontotemporal tum...</td>\n",
       "      <td>MICROSCOPIC DESCRIPTION_x000D__x000D_(A-B) Per...</td>\n",
       "      <td>grade 1</td>\n",
       "    </tr>\n",
       "    <tr>\n",
       "      <th>4</th>\n",
       "      <td>16026.0</td>\n",
       "      <td>NaN</td>\n",
       "      <td>_x000D_\\n(A) Anterior skull base tumor, excisi...</td>\n",
       "      <td>MICROSCOPIC DESCRIPTION_x000D__x000D_(A) Secti...</td>\n",
       "      <td>grade I</td>\n",
       "    </tr>\n",
       "  </tbody>\n",
       "</table>\n",
       "</div>"
      ],
      "text/plain": [
       "       S/N Unnamed: 1                                          Diagnosis  \\\n",
       "0  16425.0        NaN  \\nDura/ brain, left frontal convexity tumour, ...   \n",
       "1  16421.0        NaN  Dura/ brain, olfactory groove tumour, excision...   \n",
       "2  16223.0        NaN  \\n(A, B) Dura/ leptomeninges, right orbital an...   \n",
       "3  16089.0        NaN  (A-B) Meninges/ brain, left frontotemporal tum...   \n",
       "4  16026.0        NaN  _x000D_\\n(A) Anterior skull base tumor, excisi...   \n",
       "\n",
       "                            Microscopic Description     label  \n",
       "0  MICROSCOPIC DESCRIPTION_x000D__x000D_Section s...  grade 1  \n",
       "1  MICROSCOPIC DESCRIPTION_x000D__x000D_Sections ...  grade 1  \n",
       "2  MICROSCOPIC DESCRIPTION_x000D__x000D_(A, B) Se...  grade 1  \n",
       "3  MICROSCOPIC DESCRIPTION_x000D__x000D_(A-B) Per...  grade 1  \n",
       "4  MICROSCOPIC DESCRIPTION_x000D__x000D_(A) Secti...  grade I  "
      ]
     },
     "execution_count": 20,
     "metadata": {},
     "output_type": "execute_result"
    }
   ],
   "source": [
    "pattern = r\"(grade\\s*(?:I|II|III|IV|1|2|3|4))\"\n",
    "\n",
    "df[\"label\"] = df[\"Diagnosis\"].str.extract(pattern, flags=re.IGNORECASE)\n",
    "\n",
    "df.head()"
   ]
  },
  {
   "cell_type": "code",
   "execution_count": 21,
   "metadata": {},
   "outputs": [
    {
     "data": {
      "text/plain": [
       "label\n",
       "grade I    61\n",
       "grade 1    37\n",
       "Grade I    16\n",
       "grade 2     9\n",
       "Grade 1     2\n",
       "grade1      1\n",
       "Name: count, dtype: int64"
      ]
     },
     "execution_count": 21,
     "metadata": {},
     "output_type": "execute_result"
    }
   ],
   "source": [
    "df[\"label\"].value_counts()"
   ]
  },
  {
   "cell_type": "code",
   "execution_count": 26,
   "metadata": {},
   "outputs": [
    {
     "data": {
      "text/html": [
       "<div>\n",
       "<style scoped>\n",
       "    .dataframe tbody tr th:only-of-type {\n",
       "        vertical-align: middle;\n",
       "    }\n",
       "\n",
       "    .dataframe tbody tr th {\n",
       "        vertical-align: top;\n",
       "    }\n",
       "\n",
       "    .dataframe thead th {\n",
       "        text-align: right;\n",
       "    }\n",
       "</style>\n",
       "<table border=\"1\" class=\"dataframe\">\n",
       "  <thead>\n",
       "    <tr style=\"text-align: right;\">\n",
       "      <th></th>\n",
       "      <th>S/N</th>\n",
       "      <th>Unnamed: 1</th>\n",
       "      <th>Diagnosis</th>\n",
       "      <th>Microscopic Description</th>\n",
       "      <th>label</th>\n",
       "    </tr>\n",
       "  </thead>\n",
       "  <tbody>\n",
       "    <tr>\n",
       "      <th>21</th>\n",
       "      <td>NaN</td>\n",
       "      <td>B</td>\n",
       "      <td>_x000D_\\n(A) Brain, frontal lobe, tumour; exci...</td>\n",
       "      <td>MICROSCOPIC DESCRIPTION_x000D__x000D_(A) Secti...</td>\n",
       "      <td>NaN</td>\n",
       "    </tr>\n",
       "    <tr>\n",
       "      <th>67</th>\n",
       "      <td>12230.0</td>\n",
       "      <td>NaN</td>\n",
       "      <td>_x000D_\\n(A and B) Right parietal tumour: Meni...</td>\n",
       "      <td>MICROSCOPIC DESCRIPTION_x000D__x000D_Sections ...</td>\n",
       "      <td>NaN</td>\n",
       "    </tr>\n",
       "    <tr>\n",
       "      <th>75</th>\n",
       "      <td>12050.0</td>\n",
       "      <td>NaN</td>\n",
       "      <td>\\nCP angle brain tumor, biopsy: Favor meningio...</td>\n",
       "      <td>MICROSCOPIC DESCRIPTION_x000D__x000D_Sections ...</td>\n",
       "      <td>NaN</td>\n",
       "    </tr>\n",
       "    <tr>\n",
       "      <th>78</th>\n",
       "      <td>NaN</td>\n",
       "      <td>B</td>\n",
       "      <td>_x000D_\\nLeft parietal tumour, excision: _x000...</td>\n",
       "      <td>MICROSCOPIC DESCRIPTION_x000D__x000D_Sections ...</td>\n",
       "      <td>NaN</td>\n",
       "    </tr>\n",
       "    <tr>\n",
       "      <th>87</th>\n",
       "      <td>11785.0</td>\n",
       "      <td>A</td>\n",
       "      <td>Brain, cavernous sinus mass, biopsy: - Mening...</td>\n",
       "      <td>NaN</td>\n",
       "      <td>NaN</td>\n",
       "    </tr>\n",
       "    <tr>\n",
       "      <th>88</th>\n",
       "      <td>NaN</td>\n",
       "      <td>B</td>\n",
       "      <td>Cavernous sinus, excision biopsies : Meningioma</td>\n",
       "      <td>MICROSCOPIC DESCRIPTION_x000D__x000D_Sections ...</td>\n",
       "      <td>NaN</td>\n",
       "    </tr>\n",
       "  </tbody>\n",
       "</table>\n",
       "</div>"
      ],
      "text/plain": [
       "        S/N Unnamed: 1                                          Diagnosis  \\\n",
       "21      NaN          B  _x000D_\\n(A) Brain, frontal lobe, tumour; exci...   \n",
       "67  12230.0        NaN  _x000D_\\n(A and B) Right parietal tumour: Meni...   \n",
       "75  12050.0        NaN  \\nCP angle brain tumor, biopsy: Favor meningio...   \n",
       "78      NaN          B  _x000D_\\nLeft parietal tumour, excision: _x000...   \n",
       "87  11785.0          A   Brain, cavernous sinus mass, biopsy: - Mening...   \n",
       "88      NaN          B    Cavernous sinus, excision biopsies : Meningioma   \n",
       "\n",
       "                             Microscopic Description  label  \n",
       "21  MICROSCOPIC DESCRIPTION_x000D__x000D_(A) Secti...   NaN  \n",
       "67  MICROSCOPIC DESCRIPTION_x000D__x000D_Sections ...   NaN  \n",
       "75  MICROSCOPIC DESCRIPTION_x000D__x000D_Sections ...   NaN  \n",
       "78  MICROSCOPIC DESCRIPTION_x000D__x000D_Sections ...   NaN  \n",
       "87                                                NaN   NaN  \n",
       "88  MICROSCOPIC DESCRIPTION_x000D__x000D_Sections ...   NaN  "
      ]
     },
     "execution_count": 26,
     "metadata": {},
     "output_type": "execute_result"
    }
   ],
   "source": [
    "df[df[\"label\"].isna()]"
   ]
  },
  {
   "cell_type": "code",
   "execution_count": null,
   "metadata": {},
   "outputs": [],
   "source": []
  }
 ],
 "metadata": {
  "kernelspec": {
   "display_name": "histology",
   "language": "python",
   "name": "python3"
  },
  "language_info": {
   "codemirror_mode": {
    "name": "ipython",
    "version": 3
   },
   "file_extension": ".py",
   "mimetype": "text/x-python",
   "name": "python",
   "nbconvert_exporter": "python",
   "pygments_lexer": "ipython3",
   "version": "3.11.9"
  }
 },
 "nbformat": 4,
 "nbformat_minor": 2
}
