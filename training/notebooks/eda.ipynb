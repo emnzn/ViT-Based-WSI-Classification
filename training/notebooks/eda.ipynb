{
 "cells": [
  {
   "cell_type": "code",
   "execution_count": 1,
   "metadata": {},
   "outputs": [],
   "source": [
    "import os\n",
    "\n",
    "import torch\n",
    "import numpy as np\n",
    "import pandas as pd"
   ]
  },
  {
   "cell_type": "code",
   "execution_count": 2,
   "metadata": {},
   "outputs": [],
   "source": [
    "train_dir = os.path.join(\"..\", \"data\", \"trial-1\", \"train\")\n",
    "patient_ids = os.listdir(train_dir)\n",
    "\n",
    "data_paths = [os.path.join(train_dir, i) for i in patient_ids]"
   ]
  },
  {
   "cell_type": "code",
   "execution_count": 3,
   "metadata": {},
   "outputs": [],
   "source": [
    "val_dir = os.path.join(\"..\", \"data\", \"trial-1\", \"val\")\n",
    "\n",
    "val_patient_ids = os.listdir(val_dir)"
   ]
  },
  {
   "cell_type": "code",
   "execution_count": 4,
   "metadata": {},
   "outputs": [
    {
     "name": "stdout",
     "output_type": "stream",
     "text": [
      "trial 1 data split has no duplicates\n",
      "trial 2 data split has no duplicates\n",
      "trial 3 data split has no duplicates\n",
      "trial 4 data split has no duplicates\n",
      "trial 5 data split has no duplicates\n"
     ]
    }
   ],
   "source": [
    "for i in range(1, 6):\n",
    "    train_dir = os.path.join(\"..\", \"data\", f\"trial-{i}\", \"train\")\n",
    "    val_dir = os.path.join(\"..\", \"data\", f\"trial-{i}\", \"val\")\n",
    "    test_dir = os.path.join(\"..\", \"data\", f\"trial-{i}\", \"test\")\n",
    "\n",
    "    train_patient_ids = os.listdir(train_dir)\n",
    "    val_patient_ids = os.listdir(val_dir)\n",
    "    test_patient_ids = os.listdir(test_dir)\n",
    "\n",
    "    num_ids = len(train_patient_ids) + len(val_patient_ids) + len(test_patient_ids)\n",
    "    num_unique_ids = len(set(train_patient_ids + val_patient_ids + test_patient_ids))\n",
    "\n",
    "    if num_ids == num_unique_ids:\n",
    "        print(f\"trial {i} data split has no duplicates\")\n",
    "\n",
    "    else: \n",
    "        print(f\"trial {i} contaminated\")"
   ]
  },
  {
   "cell_type": "code",
   "execution_count": 6,
   "metadata": {},
   "outputs": [],
   "source": [
    "test = np.load(\"../data/trial-1/train/10336.npy\")"
   ]
  },
  {
   "cell_type": "code",
   "execution_count": 11,
   "metadata": {},
   "outputs": [
    {
     "data": {
      "text/plain": [
       "tensor(-7.1217)"
      ]
     },
     "execution_count": 11,
     "metadata": {},
     "output_type": "execute_result"
    }
   ],
   "source": [
    "torch.tensor(test).min()"
   ]
  },
  {
   "cell_type": "code",
   "execution_count": 12,
   "metadata": {},
   "outputs": [
    {
     "data": {
      "text/plain": [
       "(106, 97, 1024)"
      ]
     },
     "execution_count": 12,
     "metadata": {},
     "output_type": "execute_result"
    }
   ],
   "source": [
    "test.shape"
   ]
  },
  {
   "cell_type": "code",
   "execution_count": 23,
   "metadata": {},
   "outputs": [
    {
     "data": {
      "text/plain": [
       "torch.Size([1, 106, 97, 1024])"
      ]
     },
     "execution_count": 23,
     "metadata": {},
     "output_type": "execute_result"
    }
   ],
   "source": [
    "torch.nn.LayerNorm(1024)(torch.tensor(test).unsqueeze(0)).squeeze() ==  torch.nn.LayerNorm(1024)(torch.tensor(test))"
   ]
  },
  {
   "cell_type": "code",
   "execution_count": 25,
   "metadata": {},
   "outputs": [
    {
     "name": "stdout",
     "output_type": "stream",
     "text": [
      "Are the outputs equal? True\n"
     ]
    }
   ],
   "source": [
    "output_with_batch_dim = torch.nn.LayerNorm(1024)(torch.tensor(test).unsqueeze(0)).squeeze(0)\n",
    "output_without_batch_dim = torch.nn.LayerNorm(1024)(torch.tensor(test))\n",
    "\n",
    "\n",
    "are_equal = torch.allclose(output_with_batch_dim, output_without_batch_dim)\n",
    "\n",
    "print(\"Are the outputs equal?\", are_equal)"
   ]
  },
  {
   "cell_type": "code",
   "execution_count": 28,
   "metadata": {},
   "outputs": [
    {
     "data": {
      "text/plain": [
       "True"
      ]
     },
     "execution_count": 28,
     "metadata": {},
     "output_type": "execute_result"
    }
   ],
   "source": [
    "batch = torch.stack([torch.tensor(test), torch.tensor(test)])\n",
    "\n",
    "output_with_batch_dim = torch.nn.LayerNorm(1024)(batch)\n",
    "output_without_batch_dim = torch.nn.LayerNorm(1024)(torch.tensor(test))\n",
    "\n",
    "torch.allclose(output_with_batch_dim, output_without_batch_dim)"
   ]
  },
  {
   "cell_type": "code",
   "execution_count": 29,
   "metadata": {},
   "outputs": [],
   "source": [
    "import torchvision.transforms as T"
   ]
  },
  {
   "cell_type": "code",
   "execution_count": 34,
   "metadata": {},
   "outputs": [
    {
     "data": {
      "text/plain": [
       "torch.float32"
      ]
     },
     "execution_count": 34,
     "metadata": {},
     "output_type": "execute_result"
    }
   ],
   "source": [
    "T.ToTensor()(test).dtype"
   ]
  },
  {
   "cell_type": "code",
   "execution_count": 35,
   "metadata": {},
   "outputs": [
    {
     "data": {
      "text/plain": [
       "dtype('float32')"
      ]
     },
     "execution_count": 35,
     "metadata": {},
     "output_type": "execute_result"
    }
   ],
   "source": [
    "test.dtype"
   ]
  },
  {
   "cell_type": "code",
   "execution_count": null,
   "metadata": {},
   "outputs": [],
   "source": []
  }
 ],
 "metadata": {
  "kernelspec": {
   "display_name": "histology",
   "language": "python",
   "name": "python3"
  },
  "language_info": {
   "codemirror_mode": {
    "name": "ipython",
    "version": 3
   },
   "file_extension": ".py",
   "mimetype": "text/x-python",
   "name": "python",
   "nbconvert_exporter": "python",
   "pygments_lexer": "ipython3",
   "version": "3.11.9"
  }
 },
 "nbformat": 4,
 "nbformat_minor": 2
}
