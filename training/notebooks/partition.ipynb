{
 "cells": [
  {
   "cell_type": "code",
   "execution_count": 1,
   "metadata": {},
   "outputs": [],
   "source": [
    "import sys\n",
    "sys.path.append(\"../src\")\n",
    "\n",
    "import os\n",
    "from pathlib import Path\n",
    "\n",
    "import torch\n",
    "import numpy as np\n",
    "import pandas as pd\n",
    "from tqdm import tqdm\n",
    "from sklearn.model_selection import train_test_split\n",
    "\n",
    "from utils import extract_coords, merge_patches, adjust_coords"
   ]
  },
  {
   "cell_type": "code",
   "execution_count": 2,
   "metadata": {},
   "outputs": [
    {
     "data": {
      "text/plain": [
       "True"
      ]
     },
     "execution_count": 2,
     "metadata": {},
     "output_type": "execute_result"
    }
   ],
   "source": [
    "model = \"UNI\"\n",
    "\n",
    "img_dir = os.path.join(\"..\", \"..\", \"raw-data\", \"embeddings\", \"experiment-0\", model)\n",
    "\n",
    "os.path.isdir(img_dir)"
   ]
  },
  {
   "cell_type": "code",
   "execution_count": 3,
   "metadata": {},
   "outputs": [
    {
     "data": {
      "text/plain": [
       "127"
      ]
     },
     "execution_count": 3,
     "metadata": {},
     "output_type": "execute_result"
    }
   ],
   "source": [
    "len(os.listdir(img_dir))"
   ]
  },
  {
   "cell_type": "code",
   "execution_count": 4,
   "metadata": {},
   "outputs": [
    {
     "data": {
      "text/html": [
       "<div>\n",
       "<style scoped>\n",
       "    .dataframe tbody tr th:only-of-type {\n",
       "        vertical-align: middle;\n",
       "    }\n",
       "\n",
       "    .dataframe tbody tr th {\n",
       "        vertical-align: top;\n",
       "    }\n",
       "\n",
       "    .dataframe thead th {\n",
       "        text-align: right;\n",
       "    }\n",
       "</style>\n",
       "<table border=\"1\" class=\"dataframe\">\n",
       "  <thead>\n",
       "    <tr style=\"text-align: right;\">\n",
       "      <th></th>\n",
       "      <th>id</th>\n",
       "      <th>grade</th>\n",
       "    </tr>\n",
       "  </thead>\n",
       "  <tbody>\n",
       "    <tr>\n",
       "      <th>0</th>\n",
       "      <td>16425</td>\n",
       "      <td>1</td>\n",
       "    </tr>\n",
       "    <tr>\n",
       "      <th>1</th>\n",
       "      <td>16421</td>\n",
       "      <td>1</td>\n",
       "    </tr>\n",
       "    <tr>\n",
       "      <th>2</th>\n",
       "      <td>16223</td>\n",
       "      <td>1</td>\n",
       "    </tr>\n",
       "    <tr>\n",
       "      <th>3</th>\n",
       "      <td>16089</td>\n",
       "      <td>1</td>\n",
       "    </tr>\n",
       "    <tr>\n",
       "      <th>4</th>\n",
       "      <td>16026</td>\n",
       "      <td>1</td>\n",
       "    </tr>\n",
       "  </tbody>\n",
       "</table>\n",
       "</div>"
      ],
      "text/plain": [
       "      id grade\n",
       "0  16425     1\n",
       "1  16421     1\n",
       "2  16223     1\n",
       "3  16089     1\n",
       "4  16026     1"
      ]
     },
     "execution_count": 4,
     "metadata": {},
     "output_type": "execute_result"
    }
   ],
   "source": [
    "label_dir = os.path.join(\"..\", \"data\", \"labels.csv\")\n",
    "df = pd.read_csv(label_dir)\n",
    "\n",
    "df.head()"
   ]
  },
  {
   "cell_type": "code",
   "execution_count": 5,
   "metadata": {},
   "outputs": [
    {
     "data": {
      "text/plain": [
       "(121, 2)"
      ]
     },
     "execution_count": 5,
     "metadata": {},
     "output_type": "execute_result"
    }
   ],
   "source": [
    "img_ids = [Path(i).stem for i in os.listdir(img_dir)]\n",
    "\n",
    "df = df[df[\"id\"].isin(img_ids)]\n",
    "\n",
    "df.shape"
   ]
  },
  {
   "cell_type": "code",
   "execution_count": 6,
   "metadata": {},
   "outputs": [
    {
     "data": {
      "text/html": [
       "<div>\n",
       "<style scoped>\n",
       "    .dataframe tbody tr th:only-of-type {\n",
       "        vertical-align: middle;\n",
       "    }\n",
       "\n",
       "    .dataframe tbody tr th {\n",
       "        vertical-align: top;\n",
       "    }\n",
       "\n",
       "    .dataframe thead th {\n",
       "        text-align: right;\n",
       "    }\n",
       "</style>\n",
       "<table border=\"1\" class=\"dataframe\">\n",
       "  <thead>\n",
       "    <tr style=\"text-align: right;\">\n",
       "      <th></th>\n",
       "      <th>id</th>\n",
       "      <th>grade</th>\n",
       "      <th>embedding_path</th>\n",
       "    </tr>\n",
       "  </thead>\n",
       "  <tbody>\n",
       "    <tr>\n",
       "      <th>0</th>\n",
       "      <td>16425</td>\n",
       "      <td>1</td>\n",
       "      <td>../../raw-data/embeddings/experiment-0/UNI/164...</td>\n",
       "    </tr>\n",
       "    <tr>\n",
       "      <th>1</th>\n",
       "      <td>16421</td>\n",
       "      <td>1</td>\n",
       "      <td>../../raw-data/embeddings/experiment-0/UNI/164...</td>\n",
       "    </tr>\n",
       "    <tr>\n",
       "      <th>2</th>\n",
       "      <td>16223</td>\n",
       "      <td>1</td>\n",
       "      <td>../../raw-data/embeddings/experiment-0/UNI/162...</td>\n",
       "    </tr>\n",
       "    <tr>\n",
       "      <th>3</th>\n",
       "      <td>16089</td>\n",
       "      <td>1</td>\n",
       "      <td>../../raw-data/embeddings/experiment-0/UNI/160...</td>\n",
       "    </tr>\n",
       "    <tr>\n",
       "      <th>4</th>\n",
       "      <td>16026</td>\n",
       "      <td>1</td>\n",
       "      <td>../../raw-data/embeddings/experiment-0/UNI/160...</td>\n",
       "    </tr>\n",
       "  </tbody>\n",
       "</table>\n",
       "</div>"
      ],
      "text/plain": [
       "      id grade                                     embedding_path\n",
       "0  16425     1  ../../raw-data/embeddings/experiment-0/UNI/164...\n",
       "1  16421     1  ../../raw-data/embeddings/experiment-0/UNI/164...\n",
       "2  16223     1  ../../raw-data/embeddings/experiment-0/UNI/162...\n",
       "3  16089     1  ../../raw-data/embeddings/experiment-0/UNI/160...\n",
       "4  16026     1  ../../raw-data/embeddings/experiment-0/UNI/160..."
      ]
     },
     "execution_count": 6,
     "metadata": {},
     "output_type": "execute_result"
    }
   ],
   "source": [
    "df[\"embedding_path\"] = df[\"id\"].map(lambda x: os.path.join(img_dir, f\"{x}.parquet\"))\n",
    "\n",
    "df.head()"
   ]
  },
  {
   "cell_type": "code",
   "execution_count": 7,
   "metadata": {},
   "outputs": [
    {
     "data": {
      "text/plain": [
       "True"
      ]
     },
     "execution_count": 7,
     "metadata": {},
     "output_type": "execute_result"
    }
   ],
   "source": [
    "all(df[\"embedding_path\"].map(lambda x: os.path.isfile(x)))"
   ]
  },
  {
   "cell_type": "code",
   "execution_count": 8,
   "metadata": {},
   "outputs": [],
   "source": [
    "train, test = train_test_split(df, test_size=0.3, shuffle=True, stratify=df[\"grade\"])"
   ]
  },
  {
   "cell_type": "code",
   "execution_count": 9,
   "metadata": {},
   "outputs": [
    {
     "data": {
      "text/plain": [
       "grade\n",
       "1     53\n",
       "2+    31\n",
       "Name: count, dtype: int64"
      ]
     },
     "execution_count": 9,
     "metadata": {},
     "output_type": "execute_result"
    }
   ],
   "source": [
    "train[\"grade\"].value_counts()"
   ]
  },
  {
   "cell_type": "code",
   "execution_count": 10,
   "metadata": {},
   "outputs": [
    {
     "data": {
      "text/plain": [
       "grade\n",
       "1     24\n",
       "2+    13\n",
       "Name: count, dtype: int64"
      ]
     },
     "execution_count": 10,
     "metadata": {},
     "output_type": "execute_result"
    }
   ],
   "source": [
    "test[\"grade\"].value_counts()"
   ]
  },
  {
   "cell_type": "code",
   "execution_count": 11,
   "metadata": {},
   "outputs": [
    {
     "data": {
      "text/html": [
       "<div>\n",
       "<style scoped>\n",
       "    .dataframe tbody tr th:only-of-type {\n",
       "        vertical-align: middle;\n",
       "    }\n",
       "\n",
       "    .dataframe tbody tr th {\n",
       "        vertical-align: top;\n",
       "    }\n",
       "\n",
       "    .dataframe thead th {\n",
       "        text-align: right;\n",
       "    }\n",
       "</style>\n",
       "<table border=\"1\" class=\"dataframe\">\n",
       "  <thead>\n",
       "    <tr style=\"text-align: right;\">\n",
       "      <th></th>\n",
       "      <th>id</th>\n",
       "      <th>grade</th>\n",
       "      <th>embedding_path</th>\n",
       "    </tr>\n",
       "  </thead>\n",
       "  <tbody>\n",
       "    <tr>\n",
       "      <th>48</th>\n",
       "      <td>13054B</td>\n",
       "      <td>2+</td>\n",
       "      <td>../../raw-data/embeddings/experiment-0/UNI/130...</td>\n",
       "    </tr>\n",
       "    <tr>\n",
       "      <th>105</th>\n",
       "      <td>11226</td>\n",
       "      <td>1</td>\n",
       "      <td>../../raw-data/embeddings/experiment-0/UNI/112...</td>\n",
       "    </tr>\n",
       "    <tr>\n",
       "      <th>65</th>\n",
       "      <td>12327</td>\n",
       "      <td>2+</td>\n",
       "      <td>../../raw-data/embeddings/experiment-0/UNI/123...</td>\n",
       "    </tr>\n",
       "    <tr>\n",
       "      <th>4</th>\n",
       "      <td>16026</td>\n",
       "      <td>1</td>\n",
       "      <td>../../raw-data/embeddings/experiment-0/UNI/160...</td>\n",
       "    </tr>\n",
       "    <tr>\n",
       "      <th>46</th>\n",
       "      <td>13055</td>\n",
       "      <td>2+</td>\n",
       "      <td>../../raw-data/embeddings/experiment-0/UNI/130...</td>\n",
       "    </tr>\n",
       "    <tr>\n",
       "      <th>...</th>\n",
       "      <td>...</td>\n",
       "      <td>...</td>\n",
       "      <td>...</td>\n",
       "    </tr>\n",
       "    <tr>\n",
       "      <th>107</th>\n",
       "      <td>11189</td>\n",
       "      <td>2+</td>\n",
       "      <td>../../raw-data/embeddings/experiment-0/UNI/111...</td>\n",
       "    </tr>\n",
       "    <tr>\n",
       "      <th>26</th>\n",
       "      <td>13982</td>\n",
       "      <td>1</td>\n",
       "      <td>../../raw-data/embeddings/experiment-0/UNI/139...</td>\n",
       "    </tr>\n",
       "    <tr>\n",
       "      <th>34</th>\n",
       "      <td>13554</td>\n",
       "      <td>1</td>\n",
       "      <td>../../raw-data/embeddings/experiment-0/UNI/135...</td>\n",
       "    </tr>\n",
       "    <tr>\n",
       "      <th>114</th>\n",
       "      <td>10902</td>\n",
       "      <td>2+</td>\n",
       "      <td>../../raw-data/embeddings/experiment-0/UNI/109...</td>\n",
       "    </tr>\n",
       "    <tr>\n",
       "      <th>91</th>\n",
       "      <td>11541</td>\n",
       "      <td>1</td>\n",
       "      <td>../../raw-data/embeddings/experiment-0/UNI/115...</td>\n",
       "    </tr>\n",
       "  </tbody>\n",
       "</table>\n",
       "<p>84 rows × 3 columns</p>\n",
       "</div>"
      ],
      "text/plain": [
       "         id grade                                     embedding_path\n",
       "48   13054B    2+  ../../raw-data/embeddings/experiment-0/UNI/130...\n",
       "105   11226     1  ../../raw-data/embeddings/experiment-0/UNI/112...\n",
       "65    12327    2+  ../../raw-data/embeddings/experiment-0/UNI/123...\n",
       "4     16026     1  ../../raw-data/embeddings/experiment-0/UNI/160...\n",
       "46    13055    2+  ../../raw-data/embeddings/experiment-0/UNI/130...\n",
       "..      ...   ...                                                ...\n",
       "107   11189    2+  ../../raw-data/embeddings/experiment-0/UNI/111...\n",
       "26    13982     1  ../../raw-data/embeddings/experiment-0/UNI/139...\n",
       "34    13554     1  ../../raw-data/embeddings/experiment-0/UNI/135...\n",
       "114   10902    2+  ../../raw-data/embeddings/experiment-0/UNI/109...\n",
       "91    11541     1  ../../raw-data/embeddings/experiment-0/UNI/115...\n",
       "\n",
       "[84 rows x 3 columns]"
      ]
     },
     "execution_count": 11,
     "metadata": {},
     "output_type": "execute_result"
    }
   ],
   "source": [
    "train"
   ]
  },
  {
   "cell_type": "code",
   "execution_count": 12,
   "metadata": {},
   "outputs": [
    {
     "data": {
      "text/html": [
       "<div>\n",
       "<style scoped>\n",
       "    .dataframe tbody tr th:only-of-type {\n",
       "        vertical-align: middle;\n",
       "    }\n",
       "\n",
       "    .dataframe tbody tr th {\n",
       "        vertical-align: top;\n",
       "    }\n",
       "\n",
       "    .dataframe thead th {\n",
       "        text-align: right;\n",
       "    }\n",
       "</style>\n",
       "<table border=\"1\" class=\"dataframe\">\n",
       "  <thead>\n",
       "    <tr style=\"text-align: right;\">\n",
       "      <th></th>\n",
       "      <th>coords</th>\n",
       "      <th>embedding</th>\n",
       "      <th>processed_coords</th>\n",
       "      <th>adjusted_coords</th>\n",
       "    </tr>\n",
       "  </thead>\n",
       "  <tbody>\n",
       "    <tr>\n",
       "      <th>0</th>\n",
       "      <td>patch-0-224-0-224</td>\n",
       "      <td>[[[0.16639982, -0.027044892, -0.446473, -1.191...</td>\n",
       "      <td>(0, 224, 0, 224)</td>\n",
       "      <td>(0, 1, 0, 1)</td>\n",
       "    </tr>\n",
       "    <tr>\n",
       "      <th>10065</th>\n",
       "      <td>patch-224-448-0-224</td>\n",
       "      <td>[[[0.7690655, 0.50395703, -0.3032657, -0.68857...</td>\n",
       "      <td>(224, 448, 0, 224)</td>\n",
       "      <td>(1, 2, 0, 1)</td>\n",
       "    </tr>\n",
       "    <tr>\n",
       "      <th>25410</th>\n",
       "      <td>patch-448-672-0-224</td>\n",
       "      <td>[[[0.7690655, 0.50395703, -0.3032657, -0.68857...</td>\n",
       "      <td>(448, 672, 0, 224)</td>\n",
       "      <td>(2, 3, 0, 1)</td>\n",
       "    </tr>\n",
       "    <tr>\n",
       "      <th>27225</th>\n",
       "      <td>patch-672-896-0-224</td>\n",
       "      <td>[[[0.7690655, 0.50395703, -0.3032657, -0.68857...</td>\n",
       "      <td>(672, 896, 0, 224)</td>\n",
       "      <td>(3, 4, 0, 1)</td>\n",
       "    </tr>\n",
       "    <tr>\n",
       "      <th>29040</th>\n",
       "      <td>patch-896-1120-0-224</td>\n",
       "      <td>[[[0.7690655, 0.50395703, -0.3032657, -0.68857...</td>\n",
       "      <td>(896, 1120, 0, 224)</td>\n",
       "      <td>(4, 5, 0, 1)</td>\n",
       "    </tr>\n",
       "  </tbody>\n",
       "</table>\n",
       "</div>"
      ],
      "text/plain": [
       "                     coords  \\\n",
       "0         patch-0-224-0-224   \n",
       "10065   patch-224-448-0-224   \n",
       "25410   patch-448-672-0-224   \n",
       "27225   patch-672-896-0-224   \n",
       "29040  patch-896-1120-0-224   \n",
       "\n",
       "                                               embedding     processed_coords  \\\n",
       "0      [[[0.16639982, -0.027044892, -0.446473, -1.191...     (0, 224, 0, 224)   \n",
       "10065  [[[0.7690655, 0.50395703, -0.3032657, -0.68857...   (224, 448, 0, 224)   \n",
       "25410  [[[0.7690655, 0.50395703, -0.3032657, -0.68857...   (448, 672, 0, 224)   \n",
       "27225  [[[0.7690655, 0.50395703, -0.3032657, -0.68857...   (672, 896, 0, 224)   \n",
       "29040  [[[0.7690655, 0.50395703, -0.3032657, -0.68857...  (896, 1120, 0, 224)   \n",
       "\n",
       "      adjusted_coords  \n",
       "0        (0, 1, 0, 1)  \n",
       "10065    (1, 2, 0, 1)  \n",
       "25410    (2, 3, 0, 1)  \n",
       "27225    (3, 4, 0, 1)  \n",
       "29040    (4, 5, 0, 1)  "
      ]
     },
     "execution_count": 12,
     "metadata": {},
     "output_type": "execute_result"
    }
   ],
   "source": [
    "test_embedding_path = train[\"embedding_path\"].tolist()[0]\n",
    "\n",
    "train = pd.read_parquet(test_embedding_path)\n",
    "train[\"processed_coords\"] = train[\"coords\"].map(lambda x: extract_coords(x))\n",
    "train = train.sort_values(by=\"processed_coords\", key=lambda col: col.map(lambda x: (x[2], x[3], x[0], x[1])))\n",
    "train[\"embedding\"] = train[\"embedding\"].map(lambda x: x.reshape(1, 1, 1024))\n",
    "train[\"adjusted_coords\"] = adjust_coords(train[\"processed_coords\"].tolist(), 1)\n",
    "\n",
    "train.head()"
   ]
  },
  {
   "cell_type": "code",
   "execution_count": 13,
   "metadata": {},
   "outputs": [
    {
     "data": {
      "text/plain": [
       "(182, 165, 1024)"
      ]
     },
     "execution_count": 13,
     "metadata": {},
     "output_type": "execute_result"
    }
   ],
   "source": [
    "merged = merge_patches(train[\"embedding\"].tolist(), train[\"adjusted_coords\"].tolist())\n",
    "\n",
    "merged.shape"
   ]
  },
  {
   "cell_type": "code",
   "execution_count": 14,
   "metadata": {},
   "outputs": [
    {
     "data": {
      "text/plain": [
       "(1, 1, 1024)"
      ]
     },
     "execution_count": 14,
     "metadata": {},
     "output_type": "execute_result"
    }
   ],
   "source": [
    "train.iloc[0][\"embedding\"].shape"
   ]
  },
  {
   "cell_type": "code",
   "execution_count": 15,
   "metadata": {},
   "outputs": [
    {
     "data": {
      "text/plain": [
       "(1024,)"
      ]
     },
     "execution_count": 15,
     "metadata": {},
     "output_type": "execute_result"
    }
   ],
   "source": [
    "merged[0][0].shape"
   ]
  },
  {
   "cell_type": "code",
   "execution_count": 16,
   "metadata": {},
   "outputs": [
    {
     "data": {
      "text/plain": [
       "True"
      ]
     },
     "execution_count": 16,
     "metadata": {},
     "output_type": "execute_result"
    }
   ],
   "source": [
    "np.array_equal(merged[0][0], train.iloc[0][\"embedding\"].squeeze())"
   ]
  },
  {
   "cell_type": "code",
   "execution_count": 17,
   "metadata": {},
   "outputs": [],
   "source": [
    "def copy_embeddings(src_files, dest_dir):\n",
    "    os.makedirs(dest_dir, exist_ok=True)\n",
    "    for file in src_files:\n",
    "        filename = Path(file).stem\n",
    "\n",
    "        df = pd.read_parquet(file)\n",
    "        df[\"processed_coords\"] = df[\"coords\"].map(lambda x: extract_coords(x))\n",
    "        df = df.sort_values(by=\"processed_coords\", key=lambda col: col.map(lambda x: (x[2], x[3], x[0], x[1])))\n",
    "\n",
    "        df[\"embedding\"] = df[\"embedding\"].map(lambda x: x.reshape(1, 1, 1024))\n",
    "        df[\"adjusted_coords\"] = adjust_coords(coords=df[\"processed_coords\"].tolist(), new_size=1)\n",
    "\n",
    "        merged = merge_patches(df[\"embedding\"].tolist(), df[\"adjusted_coords\"].tolist())\n",
    "        np.save(os.path.join(dest_dir, f\"{filename}.npy\"), merged)"
   ]
  },
  {
   "cell_type": "code",
   "execution_count": 18,
   "metadata": {},
   "outputs": [
    {
     "name": "stderr",
     "output_type": "stream",
     "text": [
      "  0%|          | 0/5 [00:00<?, ?it/s]"
     ]
    },
    {
     "name": "stderr",
     "output_type": "stream",
     "text": [
      "100%|██████████| 5/5 [08:49<00:00, 105.96s/it]\n"
     ]
    }
   ],
   "source": [
    "for i in tqdm(range(1, 6)):\n",
    "    dest_dir = os.path.join(\"..\", \"data\", model, f\"trial-{i}\")\n",
    "\n",
    "    train, test = train_test_split(df, test_size=0.3, shuffle=True, stratify=df[\"grade\"])\n",
    "    val, test = train_test_split(test, test_size=0.5, shuffle=True, stratify=test[\"grade\"])\n",
    "\n",
    "    train_embedding_paths = train[\"embedding_path\"].tolist()\n",
    "    val_embedding_paths = val[\"embedding_path\"].tolist()\n",
    "    test_embedding_paths = test[\"embedding_path\"].tolist()\n",
    "\n",
    "    copy_embeddings(train_embedding_paths, os.path.join(dest_dir, \"train\"))\n",
    "    copy_embeddings(val_embedding_paths, os.path.join(dest_dir, \"val\"))\n",
    "    copy_embeddings(test_embedding_paths, os.path.join(dest_dir, \"test\"))"
   ]
  },
  {
   "cell_type": "code",
   "execution_count": null,
   "metadata": {},
   "outputs": [],
   "source": []
  }
 ],
 "metadata": {
  "kernelspec": {
   "display_name": "histology",
   "language": "python",
   "name": "python3"
  },
  "language_info": {
   "codemirror_mode": {
    "name": "ipython",
    "version": 3
   },
   "file_extension": ".py",
   "mimetype": "text/x-python",
   "name": "python",
   "nbconvert_exporter": "python",
   "pygments_lexer": "ipython3",
   "version": "3.11.9"
  }
 },
 "nbformat": 4,
 "nbformat_minor": 2
}
