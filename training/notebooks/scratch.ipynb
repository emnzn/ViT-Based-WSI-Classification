{
 "cells": [
  {
   "cell_type": "code",
   "execution_count": 1,
   "metadata": {},
   "outputs": [],
   "source": [
    "import os"
   ]
  },
  {
   "cell_type": "code",
   "execution_count": 2,
   "metadata": {},
   "outputs": [
    {
     "data": {
      "text/plain": [
       "True"
      ]
     },
     "execution_count": 2,
     "metadata": {},
     "output_type": "execute_result"
    }
   ],
   "source": [
    "data_dir = os.path.join(\"..\", \"data\", \"UNI\", \"isolated\")\n",
    "\n",
    "os.path.isdir(data_dir)"
   ]
  },
  {
   "cell_type": "code",
   "execution_count": 5,
   "metadata": {},
   "outputs": [
    {
     "name": "stdout",
     "output_type": "stream",
     "text": [
      "['11871.npy', '13663.npy', '12120.npy', '12220.npy', '16425.npy', '12380.npy', '13791.npy', '11481.npy', '11170.npy', '12145.npy', '10902.npy', '12063.npy', '11775.npy', '10576.npy', '12615.npy', '11785C.npy', '15513.npy', '11541.npy', '10565.npy', '11727.npy', '11938.npy', '12015.npy', '14696A.npy', '11943.npy', '13424.npy', '12186.npy', '13267.npy', '12529.npy', '10773.npy', '11651.npy', '13838.npy', '12404.npy', '10490.npy', '11402.npy', '12327.npy', '14917B.npy', '11539.npy', '12662.npy', '11929.npy', '15060.npy', '11422.npy', '12180.npy', '12904.npy', '10725.npy', '12801.npy', '13554.npy', '10825.npy', '14404.npy', '10933.npy', '12424.npy', '13153.npy', '13055.npy', '14703.npy', '16089.npy', '12691.npy', '12570.npy', '11749.npy', '11987.npy', '11320.npy', '14572A.npy', '14148.npy', '15463A.npy', '10934.npy', '13742.npy', '11479.npy', '13054A.npy', '15463B.npy', '13353.npy', '14917A.npy', '13191.npy', '13475.npy', '13119.npy', '11303.npy', '11224.npy', '11783.npy', '12447.npy', '11000.npy', '10336.npy', '15286.npy', '11420.npy', '11797.npy', '10548.npy', '14080.npy', '16223.npy']\n",
      "\n",
      "['12120.npy', '12570.npy', '14917B.npy', '10548.npy', '11785C.npy', '15513.npy', '11224.npy', '11820.npy', '16425.npy', '14917A.npy', '10725.npy', '12404.npy', '12768.npy', '14148.npy', '10490.npy', '11389.npy', '10336.npy', '13838.npy', '12180.npy', '13424.npy', '13820.npy', '10825.npy', '14703.npy', '11753.npy', '11783.npy', '11845.npy', '11541.npy', '10576.npy', '11303.npy', '11943.npy', '11539.npy', '11420.npy', '13119.npy', '11293.npy', '12063.npy', '13554.npy', '13054B.npy', '11775.npy', '15060.npy', '12010A.npy', '13267.npy', '12015.npy', '14080.npy', '13475.npy', '11651.npy', '13675.npy', '10773.npy', '13663.npy', '13179.npy', '14404.npy', '11481.npy', '11000.npy', '12925.npy', '13982.npy', '13193.npy', '11043.npy', '13284.npy', '15286.npy', '11749.npy', '11287.npy', '15050.npy', '14077.npy', '13645.npy', '14917C.npy', '10933.npy', '15779.npy', '15463A.npy', '11727.npy', '13791.npy', '15463B.npy', '16223.npy', '12424.npy', '12691.npy', '14120.npy', '12801.npy', '12327.npy', '11226.npy', '10934.npy', '10596.npy', '14572A.npy', '13054A.npy', '11464.npy', '16421.npy', '13153.npy']\n",
      "\n",
      "['15463A.npy', '11170.npy', '16026.npy', '14732B.npy', '14917A.npy', '15286.npy', '13191.npy', '12925.npy', '10825.npy', '12691.npy', '13284.npy', '11043.npy', '14917B.npy', '12570.npy', '12404.npy', '13791.npy', '11464.npy', '12186.npy', '11293.npy', '12063.npy', '11189.npy', '13838.npy', '11785C.npy', '14572A.npy', '10933.npy', '11320.npy', '10576.npy', '13742.npy', '12399.npy', '12169.npy', '12615.npy', '12529.npy', '11303.npy', '10596.npy', '14404.npy', '12015.npy', '13153.npy', '11749.npy', '14148.npy', '11753.npy', '13055.npy', '10934.npy', '12662.npy', '11938.npy', '12447.npy', '11402.npy', '11481.npy', '11539.npy', '11420.npy', '11287.npy', '12424.npy', '11389.npy', '11797.npy', '10548.npy', '11845.npy', '13475.npy', '12010A.npy', '13054B.npy', '14917C.npy', '11727.npy', '11987.npy', '11422.npy', '11943.npy', '14120.npy', '10336.npy', '13179.npy', '12904.npy', '10490.npy', '15050.npy', '10902.npy', '15779.npy', '11226.npy', '13054A.npy', '14077.npy', '11775.npy', '15060.npy', '11000.npy', '13982.npy', '15513.npy', '12145.npy', '13675.npy', '13193.npy', '13645.npy', '14696A.npy']\n",
      "\n",
      "['13193.npy', '12327.npy', '14404.npy', '10596.npy', '12424.npy', '11929.npy', '11422.npy', '13179.npy', '14917A.npy', '15463B.npy', '11189.npy', '13191.npy', '15050.npy', '11871.npy', '13055.npy', '11226.npy', '12662.npy', '11783.npy', '13054B.npy', '10576.npy', '12399.npy', '15513.npy', '14080.npy', '13791.npy', '11389.npy', '12904.npy', '12768.npy', '13820.npy', '13540.npy', '15779.npy', '12801.npy', '12570.npy', '11797.npy', '14917B.npy', '13353.npy', '15463A.npy', '13645.npy', '13742.npy', '12925.npy', '12186.npy', '12145.npy', '12524.npy', '11287.npy', '14917C.npy', '12180.npy', '13838.npy', '11464.npy', '12615.npy', '15286.npy', '13982.npy', '10336.npy', '14077.npy', '14696B.npy', '16026.npy', '13119.npy', '11479.npy', '11402.npy', '12220.npy', '11753.npy', '12447.npy', '11938.npy', '14148.npy', '10565.npy', '11293.npy', '11775.npy', '10490.npy', '11320.npy', '11043.npy', '11303.npy', '11987.npy', '12063.npy', '13554.npy', '16223.npy', '13267.npy', '14696A.npy', '11820.npy', '11943.npy', '12010A.npy', '13675.npy', '13663.npy', '13054A.npy', '12691.npy', '12529.npy', '13284.npy']\n",
      "\n",
      "['13119.npy', '14917C.npy', '11575.npy', '12220.npy', '11845.npy', '13267.npy', '12904.npy', '12570.npy', '12768.npy', '12399.npy', '11938.npy', '12447.npy', '10773.npy', '13284.npy', '12615.npy', '11785C.npy', '11727.npy', '12327.npy', '13982.npy', '15286.npy', '11389.npy', '13838.npy', '13475.npy', '16223.npy', '16026.npy', '11797.npy', '13153.npy', '13554.npy', '12925.npy', '11479.npy', '14148.npy', '16425.npy', '10825.npy', '11753.npy', '11320.npy', '11000.npy', '12063.npy', '11651.npy', '14077.npy', '11170.npy', '14703.npy', '10336.npy', '10659.npy', '12380.npy', '14696B.npy', '12015.npy', '10548.npy', '12010A.npy', '11043.npy', '11943.npy', '12529.npy', '15060.npy', '13424.npy', '15463A.npy', '11293.npy', '13820.npy', '12801.npy', '12524.npy', '12424.npy', '12404.npy', '13179.npy', '12145.npy', '15779.npy', '13193.npy', '14080.npy', '12186.npy', '11226.npy', '11303.npy', '10934.npy', '10902.npy', '11287.npy', '16089.npy', '10596.npy', '11402.npy', '10490.npy', '11481.npy', '10565.npy', '13791.npy', '14917B.npy', '13663.npy', '15463B.npy', '15050.npy', '13054B.npy', '11820.npy']\n",
      "\n"
     ]
    }
   ],
   "source": [
    "splits = os.listdir(data_dir)\n",
    "\n",
    "for split in splits:\n",
    "    train_dir = os.path.join(data_dir, split, \"train\")\n",
    "    print(os.listdir(train_dir))\n",
    "    print()"
   ]
  },
  {
   "cell_type": "code",
   "execution_count": 7,
   "metadata": {},
   "outputs": [
    {
     "name": "stdout",
     "output_type": "stream",
     "text": [
      "['13820.npy', '16026.npy', '14732B.npy', '11845.npy', '13193.npy', '14120.npy', '12925.npy', '13179.npy', '12524.npy', '11226.npy', '12169.npy', '13540.npy', '11389.npy', '10659.npy', '12010A.npy', '11189.npy', '15779.npy', '11753.npy']\n",
      "\n",
      "['16026.npy', '12904.npy', '11797.npy', '11170.npy', '12380.npy', '12529.npy', '14696B.npy', '10659.npy', '13055.npy', '11189.npy', '12145.npy', '12615.npy', '13540.npy', '11938.npy', '14696A.npy', '11320.npy', '11575.npy', '12524.npy']\n",
      "\n",
      "['13663.npy', '12220.npy', '13540.npy', '12768.npy', '13554.npy', '14696B.npy', '14080.npy', '11929.npy', '12180.npy', '13424.npy', '15463B.npy', '12327.npy', '12524.npy', '16223.npy', '13267.npy', '11541.npy', '11820.npy', '13119.npy']\n",
      "\n",
      "['11000.npy', '10825.npy', '12015.npy', '11539.npy', '14120.npy', '15060.npy', '10725.npy', '12120.npy', '10902.npy', '11651.npy', '13153.npy', '11749.npy', '11541.npy', '14703.npy', '10933.npy', '11420.npy', '11785C.npy', '16421.npy']\n",
      "\n",
      "['14120.npy', '13645.npy', '11775.npy', '13540.npy', '11749.npy', '10576.npy', '11224.npy', '14404.npy', '11929.npy', '13055.npy', '11539.npy', '11783.npy', '12180.npy', '13054A.npy', '11987.npy', '13353.npy', '11420.npy', '13191.npy']\n",
      "\n"
     ]
    }
   ],
   "source": [
    "splits = os.listdir(data_dir)\n",
    "\n",
    "for split in splits:\n",
    "    val_dir = os.path.join(data_dir, split, \"val\")\n",
    "    print(os.listdir(val_dir))\n",
    "    print()"
   ]
  },
  {
   "cell_type": "code",
   "execution_count": 8,
   "metadata": {},
   "outputs": [
    {
     "name": "stdout",
     "output_type": "stream",
     "text": [
      "['14917C.npy', '16421.npy', '11293.npy', '14696B.npy', '13645.npy', '11287.npy', '13054B.npy', '13982.npy', '11043.npy', '11820.npy', '15050.npy', '13675.npy', '13284.npy', '11464.npy', '14077.npy', '12399.npy', '11575.npy', '12768.npy', '10596.npy']\n",
      "\n",
      "['13353.npy', '11479.npy', '10902.npy', '11402.npy', '16089.npy', '12186.npy', '12220.npy', '10565.npy', '11871.npy', '14732B.npy', '11929.npy', '13742.npy', '11422.npy', '12447.npy', '12662.npy', '12399.npy', '12169.npy', '13191.npy', '11987.npy']\n",
      "\n",
      "['11224.npy', '10659.npy', '16421.npy', '10725.npy', '11479.npy', '10565.npy', '13353.npy', '11651.npy', '16089.npy', '13820.npy', '11575.npy', '10773.npy', '12801.npy', '14703.npy', '11871.npy', '16425.npy', '11783.npy', '12380.npy', '12120.npy']\n",
      "\n",
      "['12404.npy', '11727.npy', '13424.npy', '16089.npy', '11481.npy', '14732B.npy', '12380.npy', '10773.npy', '11575.npy', '11170.npy', '13475.npy', '10934.npy', '16425.npy', '10659.npy', '12169.npy', '11845.npy', '14572A.npy', '11224.npy', '10548.npy']\n",
      "\n",
      "['14572A.npy', '10725.npy', '13675.npy', '16421.npy', '11541.npy', '11464.npy', '12169.npy', '12662.npy', '12120.npy', '11422.npy', '14732B.npy', '15513.npy', '14917A.npy', '14696A.npy', '13742.npy', '11189.npy', '12691.npy', '11871.npy', '10933.npy']\n",
      "\n"
     ]
    }
   ],
   "source": [
    "splits = os.listdir(data_dir)\n",
    "\n",
    "for split in splits:\n",
    "    test_dir = os.path.join(data_dir, split, \"test\")\n",
    "    print(os.listdir(test_dir))\n",
    "    print()"
   ]
  },
  {
   "cell_type": "code",
   "execution_count": null,
   "metadata": {},
   "outputs": [],
   "source": []
  }
 ],
 "metadata": {
  "kernelspec": {
   "display_name": "histology",
   "language": "python",
   "name": "python3"
  },
  "language_info": {
   "codemirror_mode": {
    "name": "ipython",
    "version": 3
   },
   "file_extension": ".py",
   "mimetype": "text/x-python",
   "name": "python",
   "nbconvert_exporter": "python",
   "pygments_lexer": "ipython3",
   "version": "3.11.9"
  }
 },
 "nbformat": 4,
 "nbformat_minor": 2
}
